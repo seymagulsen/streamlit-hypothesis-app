{
 "cells": [
  {
   "cell_type": "markdown",
   "id": "157e1839-de99-47d7-9596-2de652246e42",
   "metadata": {},
   "source": [
    "<img align=\"right\" src=\"https://www.tedu.edu.tr/themes/custom/tedu/logo.svg\" width=\"350px\" height=\"350px\"/>\n",
    "<h1 style=\"font-size:20pt\">ADS 511 Statistical Inference Methods Project  </h1><br/>\n",
    "<b> Prepared by: </b> Şeyma Gülşen Akkuş <br/>\n",
    "<b> Date: </b>11.01.2025<br/>"
   ]
  },
  {
   "cell_type": "markdown",
   "id": "707d172c-7890-4ef3-a754-6285ed8e9f11",
   "metadata": {},
   "source": [
    "## **Table of Contents**\n",
    "\n",
    "### **1. Hypothesis Testing**\n",
    "\n",
    "- [1.1 Introduction to Hypothesis Testing](#1)  \n",
    "- [1.2 Key Concepts of Hypothesis Testing](#2)  \n",
    "- [1.3 Types of Hypothesis Testing](#3)  \n",
    "- [1.4 Hypothesis Testing Steps](#4)  \n",
    "- [1.5 Hypothesis Testing Roadmap](#5)  \n",
    "- [1.6 Defining Functions for Checking Assumptions](#6)  \n",
    "    - [1.6.1 Normality Check](#7)  \n",
    "    - [1.6.2 Homogeneity of Variances Check](#8)  \n",
    "\n",
    "---\n",
    "\n",
    "### **2. Continuous Data Hypothesis Testing**\n",
    "\n",
    "#### **2.1 Parametric Tests for Continuous Data**\n",
    "- [2.1.1 One-Sample T-Test](#10)  \n",
    "- [2.1.2 Paired T-Test](#11)  \n",
    "- [2.1.3 Independent T-Test](#12)  \n",
    "- [2.1.4 Repeated Measures ANOVA (Analysis of Variances)](#13)  \n",
    "- [2.1.5 One-Way ANOVA](#14)  \n",
    "\n",
    "#### **2.2 Non-Parametric Tests for Continuous Data**\n",
    "- [2.2.1 One-Sample Wilcoxon Signed-Rank Test](#16)  \n",
    "- [2.2.2 Wilcoxon Signed-Rank Test](#17)  \n",
    "- [2.2.3 Mann-Whitney U Test](#18)  \n",
    "- [2.2.4 Friedman Test](#19)  \n",
    "- [2.2.5 Kruskal-Wallis H Test](#20)  \n",
    "\n",
    "---\n",
    "\n",
    "### **3. Discrete Data Hypothesis Testing**\n",
    "\n",
    "#### **3.1 One-Sample Tests for Discrete Data**\n",
    "- [3.1.1 Binomial Test](#22)  \n",
    "\n",
    "#### **3.2 Two-Sample Tests for Discrete Data**\n",
    "- [3.2.1 McNemar Test (Paired)](#24)  \n",
    "- [3.2.2 Fisher's Exact Test (Unpaired)](#25)  \n",
    "\n",
    "#### **3.3 More than Two Samples Tests for Discrete Data**\n",
    "- [3.3.1 Cochran's Q Test (Paired)](#27)  \n",
    "- [3.3.2 Chi-Square Test (Unpaired)](#28)  \n",
    "\n",
    "---\n",
    "\n",
    "### **4. Regression Analysis**\n",
    "- [4.1 Simple Linear Regression](#29)  \n",
    "- [4.2 Multiple Linear Regression](#30)  \n",
    "\n",
    "---\n",
    "\n",
    "### **5. References**\n",
    "- [5.1 References](#31)  \n"
   ]
  },
  {
   "cell_type": "markdown",
   "id": "f5f7340f-29ee-43f2-9644-6785738a8989",
   "metadata": {},
   "source": [
    "**Statistical Inference Methods Web Application**: https://app-hypothesis-app-qk48mv4skpehvpzappx5nj8.streamlit.app/"
   ]
  },
  {
   "cell_type": "markdown",
   "id": "3572f606-9fb4-49d2-9d6f-342d3f489e47",
   "metadata": {},
   "source": [
    "**Github Repo**: https://github.com/seymagulsen/streamlit-hypothesis-app"
   ]
  },
  {
   "cell_type": "markdown",
   "id": "0ac15e5e-8f8f-4dbb-8113-05dd8dbf6808",
   "metadata": {},
   "source": [
    "## <a id=\"1\"></a> 1.1 Introduction to Hypothesis Testing "
   ]
  },
  {
   "cell_type": "markdown",
   "id": "81024835-e0d0-4ec3-a3ce-3f34691e8ae1",
   "metadata": {},
   "source": [
    "\n",
    "<p>\n",
    "Hypothesis testing is a statistical method used to evaluate claims or beliefs about a population based on sample data. Since collecting data from an entire population is often impractical, hypothesis testing provides a structured way to analyze sample data and make informed decisions under uncertainty. It is an essential tool for validating research questions and guiding conclusions.\n",
    "</p>\n"
   ]
  },
  {
   "cell_type": "markdown",
   "id": "51192059-f35f-437f-abea-f1c4ade82e1a",
   "metadata": {},
   "source": [
    "## <a id=\"2\"></a> 1.2 Key Concepts of Hypothesis Testing "
   ]
  },
  {
   "cell_type": "markdown",
   "id": "4115b764-140e-4605-9b42-aa9ca6295fdb",
   "metadata": {},
   "source": [
    "<ol>\n",
    "  <li><strong>Null Hypothesis (\\(H_{0}\\))</strong>:\n",
    "    <ul>\n",
    "      <li>A statement asserting no effect, no difference, or equality in the population parameter.</li>\n",
    "    </ul>\n",
    "  </li>\n",
    "  <li><strong>Alternative Hypothesis (\\(H_{1}\\))</strong>:\n",
    "    <ul>\n",
    "      <li>A statement proposing an effect, difference, or inequality in the population parameter.</li>\n",
    "    </ul>\n",
    "  </li>\n",
    "</ol>"
   ]
  },
  {
   "cell_type": "markdown",
   "id": "a2f574e6-bc8d-4c66-a945-b5de934197ad",
   "metadata": {},
   "source": [
    "## <a id=\"3\"></a> 1.3 Types of Hypothesis Testing "
   ]
  },
  {
   "cell_type": "markdown",
   "id": "6a089df3-f5a0-4f90-81ae-9a717ef72d9f",
   "metadata": {},
   "source": [
    "<p>Hypothesis tests are categorized based on the direction of the alternative hypothesis:</p>\n",
    "\n",
    "<li><strong>Two-tailed test (equality vs. inequality):</strong>\n",
    "    <ul>\n",
    "      <li>\\(H_{0}: \\mu = \\mu_{0}\\)</li>\n",
    "      <li>\\(H_{1}: \\mu \\neq \\mu_{0}\\)</li>\n",
    "    </ul>\n",
    "  </li>\n",
    "  <li><strong>One-tailed test (greater than):</strong>\n",
    "    <ul>\n",
    "      <li>\\(H_{0}: \\mu \\leq \\mu_{0}\\)</li>\n",
    "      <li>\\(H_{1}: \\mu > \\mu_{0}\\)</li>\n",
    "    </ul>\n",
    "  </li>\n",
    "  <li><strong>One-tailed test (less than):</strong>\n",
    "    <ul>\n",
    "      <li>\\(H_{0}: \\mu \\geq \\mu_{0}\\)</li>\n",
    "      <li>\\(H_{1}: \\mu < \\mu_{0}\\)</li>\n",
    "    </ul>\n",
    "  </li>\n",
    "</ul>"
   ]
  },
  {
   "cell_type": "markdown",
   "id": "f9599552-8d73-4b25-91c5-7ac0fc07a775",
   "metadata": {},
   "source": [
    "## <a id=\"4\"></a> 1.4 Hypothesis Testing Steps  "
   ]
  },
  {
   "cell_type": "markdown",
   "id": "137dc9dd-90aa-47d1-bb00-8e699054e92c",
   "metadata": {},
   "source": [
    "<ol>\n",
    "  <li><strong>Define the Hypotheses</strong>:\n",
    "    <ul>\n",
    "      <li>Define the null (\\(H_{0}\\)) and alternative (\\(H_{1}\\)) hypotheses clearly.</li>\n",
    "      <ul>\n",
    "  </li>\n",
    "    <li><strong>Verify Assumptions</strong>:\n",
    "    <ul>\n",
    "      <li>Check the necessary conditions for the statistical test:</li>\n",
    "      <ul>\n",
    "        <li>Normality of data distribution.</li>\n",
    "        <li>Independence and identical distribution of samples.</li>\n",
    "        <li>Absence of significant outliers.</li>\n",
    "        <li>Homogeneity of variances (for certain tests).</li>\n",
    "      </ul>\n",
    "    </ul>\n",
    "  </li>\n",
    "  <li><strong>Select the Appropriate Test</strong>:\n",
    "    <ul>\n",
    "      <li>Determine the test type based on data characteristics and hypothesis:</li>\n",
    "      <ul>\n",
    "        <li><strong>Parametric tests</strong> are used when all assumptions are hold.</li>\n",
    "        <li><strong>Non-parametric tests</strong> are used when assumptions are not met.</li>\n",
    "      </ul>\n",
    "    </ul>\n",
    "  </li>\n",
    "  <li><strong>Calculate the Test Statistic and p-Value</strong>:\n",
    "    <ul>\n",
    "      <li>Compute the test statistic from the sample data.</li>\n",
    "      <li>Derive the p-value, which measures the probability of observing the data under \\(H_{0}\\).</li>\n",
    "    </ul>\n",
    "  </li>\n",
    "  <li><strong>Decision Making</strong>:\n",
    "    <ul>\n",
    "      <li>Compare the test statistic to a critical value or the p-value to the significance level (\\(\\alpha\\)). <p>The significance level (\\(\\alpha\\)) is the probability of rejecting the null hypothesis when it is true.</p>\n",
    "</li>\n",
    "      <li>Two possible outcomes:\n",
    "        <ul>\n",
    "          <li><strong>Reject (\\(H_{0}\\)): Evidence supports the alternative hypothesis.</li>\n",
    "          <li><strong>Fail to reject (\\(H_{0}\\)): Insufficient evidence to support the alternative hypothesis.</li>\n",
    "        </ul>\n",
    "      </li>\n",
    "    </ul>\n",
    "  </li>"
   ]
  },
  {
   "cell_type": "markdown",
   "id": "4d76bbdf-b49e-4d9e-9952-2b110e248d92",
   "metadata": {},
   "source": [
    "## <a id=\"5\"></a> 1.5 Hypothesis Testing Roadmap "
   ]
  },
  {
   "cell_type": "markdown",
   "id": "1c5ceb0a-bb1f-41a1-93be-60eddb879061",
   "metadata": {},
   "source": [
    "<img src=\"Flow Chart Cont.png\" alt=\"Hypothesis Testing Flowchart\" width=\"100000\">"
   ]
  },
  {
   "cell_type": "markdown",
   "id": "ca678018-27dc-4d9d-97e9-6555abc131ea",
   "metadata": {},
   "source": [
    "## <a id=\"6\"></a> 1.6 Defining Functions for Checking Assumptions"
   ]
  },
  {
   "cell_type": "markdown",
   "id": "23c941ed-e8e2-4fc1-b11e-7909dfaf9c26",
   "metadata": {},
   "source": [
    "### <a id=\"7\"></a> 1.6.1 Normality Check "
   ]
  },
  {
   "cell_type": "markdown",
   "id": "937b981a-ea71-448c-836c-a90064e35fcd",
   "metadata": {},
   "source": [
    "<p>The function is defined to test normality assumptions by using Shapiro-Wilk test.</p>\n",
    "<ul>\n",
    "  <li>Null Hypothesis (\\(H_{0}\\)): The data follows a normal distribution.</li>\n",
    "  <li>Alternative Hypothesis (\\(H_{1}\\)): The data does not follow a normal distribution.</li>\n",
    "  <li>The default significance level is α = 0.05.</li>\n",
    "  <li>Based on the p-value:\n",
    "    <ul>\n",
    "      <li>If p > α: <strong>Fail to reject \\(H_{0}\\)</strong>, meaning the data is likely normal.</li>\n",
    "      <li>If p ≤ α: <strong>Reject \\(H_{0}\\)</strong>, meaning the data is not normal.</li>\n",
    "    </ul>\n",
    "  </li>\n",
    "</ul>\n"
   ]
  },
  {
   "cell_type": "code",
   "execution_count": 3,
   "id": "f4f61d23-6a2c-4b30-a119-81d95e35fa9a",
   "metadata": {},
   "outputs": [],
   "source": [
    "from scipy.stats import shapiro\n",
    "import seaborn as sns\n",
    "import matplotlib.pyplot as plt\n",
    "\n",
    "def check_normality(data, alpha=0.05):\n",
    "    \"\"\"\n",
    "    Check if data follows a normal distribution using the Shapiro-Wilk test.\n",
    "    \n",
    "    Parameters:\n",
    "        data (array-like): The input data to test.\n",
    "        alpha (float): Significance level (default is 0.05).\n",
    "    \n",
    "    Returns:\n",
    "        None: Prints the results of the Shapiro-Wilk test.\n",
    "    \"\"\"\n",
    "    # Perform Shapiro-Wilk test\n",
    "    shapiro_test = shapiro(data)\n",
    "\n",
    "    # Define hypotheses\n",
    "    null_hypothesis = \"The data follows a normal distribution.\"\n",
    "    alternative_hypothesis = \"The data does not follow a normal distribution.\"\n",
    "    \n",
    "    # Print results\n",
    "    print(f\"Shapiro-Wilk Test Statistic: {shapiro_test.statistic:.4f}\")\n",
    "    print(f\"Shapiro-Wilk p-value: {shapiro_test.pvalue:.4f}\")\n",
    "    print(f\"Significance Level: {alpha}\")\n",
    "    \n",
    "    if shapiro_test.pvalue > alpha:\n",
    "        print(f\"Result: Fail to reject the null hypothesis.\\n{null_hypothesis}\")\n",
    "    else:\n",
    "        print(f\"Result: Reject the null hypothesis.\\n{alternative_hypothesis}\")\n"
   ]
  },
  {
   "cell_type": "markdown",
   "id": "d2a28378-5bce-4967-90cc-1283037bf65a",
   "metadata": {},
   "source": [
    "### <a id=\"8\"></a> 1.6.2 Homogeneity of Variances Check "
   ]
  },
  {
   "cell_type": "markdown",
   "id": "b624ae81-27cf-40ba-9406-f161b17b497a",
   "metadata": {},
   "source": [
    "<p>The function is defined to test the assumption that the data have homogene variances by using Levene's test.</p>\n",
    "<ul>\n",
    "  <li>Null Hypothesis (\\(H_{0}\\)): The variances across the groups are equal (homogeneous).</li>\n",
    "  <li>Alternative Hypothesis (\\(H_{1}\\)): The variances across the groups are not equal (heterogeneous).</li>\n",
    "  <li>The default significance level is α = 0.05.</li>\n",
    "  <li>Based on the p-value:\n",
    "    <ul>\n",
    "      <li>If p > α: <strong>Fail to reject \\(H_{0}\\)</strong>, meaning the variances are likely homogeneous.</li>\n",
    "      <li>If p ≤ α: <strong>Reject \\(H_{0}\\)</strong>, meaning the variances are not homogeneous.</li>\n",
    "    </ul>\n",
    "  </li>\n",
    "</ul>\n"
   ]
  },
  {
   "cell_type": "code",
   "execution_count": 4,
   "id": "7c79ae91-f6fd-46c7-9527-f0f3d796b800",
   "metadata": {},
   "outputs": [],
   "source": [
    "from scipy.stats import levene\n",
    "\n",
    "def check_homogeneity(*groups, alpha=0.05):\n",
    "    \"\"\"\n",
    "    Check homogeneity of variance using Levene's test.\n",
    "    \n",
    "    Parameters:\n",
    "        groups (list): Groups of data (e.g., data1, data2, ...).\n",
    "        alpha (float): Significance level (default: 0.05).\n",
    "    \n",
    "    Returns:\n",
    "        None: Prints the result of Levene's test.\n",
    "    \"\"\"\n",
    "    test_stat, p_value = levene(*groups)\n",
    "    \n",
    "    print(\"Levene's Test for Homogeneity of Variance\")\n",
    "    print(f\"Test Statistic: {test_stat:.4f}\")\n",
    "    print(f\"p-value: {p_value:.4f}\")\n",
    "    print(f\"Significance Level: {alpha}\")\n",
    "    \n",
    "    if p_value > alpha:\n",
    "        print(\"Result: Fail to reject the null hypothesis. Variances are homogeneous.\")\n",
    "    else:\n",
    "        print(\"Result: Reject the null hypothesis. Variances are not homogeneous.\")\n"
   ]
  },
  {
   "cell_type": "markdown",
   "id": "5b22c33b-fdf4-4083-97db-e5595824daa4",
   "metadata": {},
   "source": [
    "***"
   ]
  },
  {
   "cell_type": "markdown",
   "id": "49fedc43-1f99-4fb6-b527-c50070336070",
   "metadata": {},
   "source": [
    "## <a id=\"9\"></a> 2. Continuous Data Hypothesis Testing"
   ]
  },
  {
   "cell_type": "markdown",
   "id": "82355acd-13c8-4f96-a69c-63d87c1d45bd",
   "metadata": {},
   "source": [
    "### **Parametric Tests**"
   ]
  },
  {
   "cell_type": "markdown",
   "id": "bc9da881-453d-4cd2-b138-66c3f5c1bb75",
   "metadata": {},
   "source": [
    "### <a id=\"10\"></a> 2.1.1 One-Sample T-Test  "
   ]
  },
  {
   "cell_type": "markdown",
   "id": "06557efb-d4d2-43c6-bf15-e2878fb62998",
   "metadata": {},
   "source": [
    "A botanist is studying the mean height of a particular species of plant. She hypothesizes that the mean height is 15 inches. A random sample of 12 plants is collected, and their heights (in inches) are recorded. The goal is to determine whether the sample supports the hypothesis that the mean height of this species is 15 inches. Here the height of the plants:"
   ]
  },
  {
   "cell_type": "markdown",
   "id": "1ee8f90c-82f6-4c12-803f-d631888c0ae7",
   "metadata": {},
   "source": [
    "**Height Dataset**\n",
    "\n",
    "|         | **1** | **2** | **3** | **4** | **5** | **6** | **7** | **8** | **9** | **10** | **11** | **12** |\n",
    "|---------|------:|------:|------:|------:|------:|------:|------:|------:|------:|-------:|-------:|-------:|\n",
    "| **Height**     | 14    | 14    | 16    | 13    | 12    | 17    | 15    | 14    | 15    | 13     | 15     | 14     |\n",
    "| **Difference (Height - Mean)** | -1    | -1    | 1     | -2    | -3    | 2     | 0     | -1    | 0     | -2     | 0      | -1     |\n"
   ]
  },
  {
   "cell_type": "markdown",
   "id": "92f20b82-0776-481e-ab62-0d68ebf69bf0",
   "metadata": {},
   "source": [
    "**According to this information, conduct the hypothesis testing to check whether the mean height is 15 inches.** "
   ]
  },
  {
   "cell_type": "markdown",
   "id": "0abd456b-6497-4edd-9b53-9b90ed948012",
   "metadata": {},
   "source": [
    "##### Define Hypothesis  "
   ]
  },
  {
   "cell_type": "markdown",
   "id": "f4ae18b9-dea2-41af-94e0-3eae218d793a",
   "metadata": {},
   "source": [
    "$H_{0}$: $\\mu_{\\text{height}} = 15$  \n",
    "$H_{1}$: $\\mu_{\\text{height}} \\neq 15$"
   ]
  },
  {
   "cell_type": "markdown",
   "id": "82f78c26-74b0-409e-8e98-84e49ed8a783",
   "metadata": {},
   "source": [
    "##### Check Assumptions "
   ]
  },
  {
   "cell_type": "code",
   "execution_count": 5,
   "id": "3e4fce23-8e96-45b9-8019-c91a450c59a7",
   "metadata": {},
   "outputs": [],
   "source": [
    "height = [14, 14, 16, 13, 12, 17, 15, 14, 15, 13, 15, 14]"
   ]
  },
  {
   "cell_type": "code",
   "execution_count": 6,
   "id": "fefbe2db-e3fb-435b-a325-8752bbf2c9b7",
   "metadata": {},
   "outputs": [
    {
     "name": "stdout",
     "output_type": "stream",
     "text": [
      "Shapiro-Wilk Test Statistic: 0.9605\n",
      "Shapiro-Wilk p-value: 0.7903\n",
      "Significance Level: 0.05\n",
      "Result: Fail to reject the null hypothesis.\n",
      "The data follows a normal distribution.\n"
     ]
    }
   ],
   "source": [
    "check_normality(height)"
   ]
  },
  {
   "cell_type": "markdown",
   "id": "b61e21d0-c257-4a10-a5ea-2091d7f11135",
   "metadata": {},
   "source": [
    "##### Select the Appropriate Test "
   ]
  },
  {
   "cell_type": "markdown",
   "id": "b771c3d1-c397-484b-b579-d605fb2b854c",
   "metadata": {},
   "source": [
    "The data points are independent, as confirmed by the study design (random sampling). Since normality is satisfied and no other assumptions are violated, we can proceed with the one-sample t-test."
   ]
  },
  {
   "cell_type": "markdown",
   "id": "e6e0f948-1aa2-4959-960b-363b39c5bb4c",
   "metadata": {},
   "source": [
    "##### Calculate Test Statistics"
   ]
  },
  {
   "cell_type": "code",
   "execution_count": 7,
   "id": "5d117f19-1969-4cf7-848e-1c7680295a35",
   "metadata": {},
   "outputs": [
    {
     "name": "stdout",
     "output_type": "stream",
     "text": [
      "T-Test Statistic: -1.6848\n",
      "P-Value: 0.1201\n"
     ]
    }
   ],
   "source": [
    "# Perform the one-sample t-test\n",
    "from scipy.stats import ttest_1samp\n",
    "\n",
    "# Null Hypothesis (H0): Mean height = 15\n",
    "# Alternative Hypothesis (H1): Mean height ≠ 15\n",
    "\n",
    "test_stat, p_value = ttest_1samp(height, popmean=15)\n",
    "\n",
    "# Display the results\n",
    "print(f\"T-Test Statistic: {test_stat:.4f}\")\n",
    "print(f\"P-Value: {p_value:.4f}\")\n"
   ]
  },
  {
   "cell_type": "markdown",
   "id": "049d88ad-3443-476e-9fe1-83f2af9a1b66",
   "metadata": {},
   "source": [
    "##### Make Decision "
   ]
  },
  {
   "cell_type": "markdown",
   "id": "e58e77a4-9c3c-4b44-88a6-b5c33a35e875",
   "metadata": {},
   "source": [
    "Since \\(p = 0.1201 > 0.05\\), we fail to reject $H_{0}$. The sample data does not provide sufficient evidence to conclude that the mean height of this plant species is different from 15 inches."
   ]
  },
  {
   "cell_type": "markdown",
   "id": "1bab8f08-9efa-4abd-a755-5449606b4a8e",
   "metadata": {},
   "source": [
    "### <a id=\"11\"></a> 2.1.2 Paired T-Test"
   ]
  },
  {
   "cell_type": "markdown",
   "id": "b989a617-d1b9-45c3-8805-50e0bc1c907f",
   "metadata": {},
   "source": [
    "An instructor wants to use two exams in her classes next year. This year, she gives both exams to the students. She wants to know if the exams are equally difficult and wants to check this by looking at the differences between scores. If the mean difference between scores for students is “close enough” to zero, she will make a practical conclusion that the exams are equally difficult. The scores are:"
   ]
  },
  {
   "cell_type": "markdown",
   "id": "1c538a17-9736-4796-86b3-8b2ce92bd0e4",
   "metadata": {},
   "source": [
    "**Exam Scores Dataset**\n",
    "\n",
    "| **Student** | **Exam 1 Score** | **Exam 2 Score** | **Difference (Exam1 - Exam2)** |\n",
    "|------------:|-----------------:|-----------------:|------------------------------:|\n",
    "| **1**       | 63              | 69              | -6                           |\n",
    "| **2**       | 65              | 65              | 0                            |\n",
    "| **3**       | 56              | 62              | -6                           |\n",
    "| **4**       | 100             | 91              | 9                            |\n",
    "| **5**       | 88              | 78              | 10                           |\n",
    "| **6**       | 83              | 87              | -4                           |\n",
    "| **7**       | 77              | 79              | -2                           |\n",
    "| **8**       | 92              | 88              | 4                            |\n",
    "| **9**       | 90              | 85              | 5                            |\n",
    "| **10**      | 84              | 92              | -8                           |\n",
    "| **11**      | 68              | 69              | -1                           |\n",
    "| **12**      | 74              | 81              | -7                           |\n",
    "| **13**      | 87              | 84              | 3                            |\n",
    "| **14**      | 64              | 75              | -11                          |\n",
    "| **15**      | 71              | 84              | -13                          |"
   ]
  },
  {
   "cell_type": "markdown",
   "id": "20a3c6f1-f34b-4297-a05a-488cc1a16af8",
   "metadata": {},
   "source": [
    "##### Define Hypothesis  "
   ]
  },
  {
   "cell_type": "markdown",
   "id": "4ff63dd0-3adb-4c8e-ae86-a94585a6a2a9",
   "metadata": {},
   "source": [
    "$H_{0}$: $\\mu_{\\text{difference}} = 0$  \n",
    "$H_{1}$: $\\mu_{\\text{difference}} \\neq 0$"
   ]
  },
  {
   "cell_type": "markdown",
   "id": "e234ea8f-b638-4384-a12b-d2dac543e74b",
   "metadata": {},
   "source": [
    "##### Check Assumptions "
   ]
  },
  {
   "cell_type": "code",
   "execution_count": 8,
   "id": "c590c5df-50be-4038-90e4-fb3f979231ab",
   "metadata": {},
   "outputs": [],
   "source": [
    "exam1_scores = [63, 65, 56, 100, 88, 83, 77, 92, 90, 84, 68, 74, 87, 64, 71, 88]\n",
    "exam2_scores = [69, 65, 62, 91, 78, 87, 79, 88, 85, 92, 69, 81, 84, 75, 84, 82]"
   ]
  },
  {
   "cell_type": "code",
   "execution_count": 9,
   "id": "82caecac-1ca4-4ba0-a77b-d664b62fa8ec",
   "metadata": {},
   "outputs": [
    {
     "name": "stdout",
     "output_type": "stream",
     "text": [
      "Shapiro-Wilk Test Statistic: 0.9584\n",
      "Shapiro-Wilk p-value: 0.6321\n",
      "Significance Level: 0.05\n",
      "Result: Fail to reject the null hypothesis.\n",
      "The data follows a normal distribution.\n",
      "Shapiro-Wilk Test Statistic: 0.9406\n",
      "Shapiro-Wilk p-value: 0.3559\n",
      "Significance Level: 0.05\n",
      "Result: Fail to reject the null hypothesis.\n",
      "The data follows a normal distribution.\n"
     ]
    }
   ],
   "source": [
    "check_normality(exam1_scores)\n",
    "check_normality(exam2_scores)"
   ]
  },
  {
   "cell_type": "code",
   "execution_count": 10,
   "id": "143bc260-7893-4926-893a-5a5a90f7cd01",
   "metadata": {},
   "outputs": [
    {
     "name": "stdout",
     "output_type": "stream",
     "text": [
      "Levene's Test for Homogeneity of Variance\n",
      "Test Statistic: 3.0580\n",
      "p-value: 0.0906\n",
      "Significance Level: 0.05\n",
      "Result: Fail to reject the null hypothesis. Variances are homogeneous.\n"
     ]
    }
   ],
   "source": [
    "check_homogeneity(exam1_scores, exam2_scores)"
   ]
  },
  {
   "cell_type": "markdown",
   "id": "3c43d8a5-5c89-4e73-b305-1921c5e0169a",
   "metadata": {},
   "source": [
    "##### Select the Appropriate Test "
   ]
  },
  {
   "cell_type": "markdown",
   "id": "9b919540-6623-44af-8d90-caa149775a29",
   "metadata": {},
   "source": [
    "Paired t-test is used because the same students took both exams, meaning the data is dependent. Each student's Exam 1 score is paired with their Exam 2 score, and the test compares the mean difference between these paired scores. Also, all assumptions are hold. "
   ]
  },
  {
   "cell_type": "markdown",
   "id": "0cda108f-b4cd-4a61-9db9-918128d126cd",
   "metadata": {},
   "source": [
    "##### Calculate Test Statistics"
   ]
  },
  {
   "cell_type": "code",
   "execution_count": 11,
   "id": "c342ac6d-3b63-4550-89d6-ca18c709f6f7",
   "metadata": {},
   "outputs": [
    {
     "name": "stdout",
     "output_type": "stream",
     "text": [
      "T-Test Statistic: -0.7498\n",
      "P-Value: 0.4650\n"
     ]
    }
   ],
   "source": [
    "from scipy.stats import ttest_rel\n",
    "\n",
    "# Perform paired t-test\n",
    "t_stat, p_value = ttest_rel(exam1_scores, exam2_scores)\n",
    "\n",
    "# Display results\n",
    "print(f\"T-Test Statistic: {t_stat:.4f}\")\n",
    "print(f\"P-Value: {p_value:.4f}\")"
   ]
  },
  {
   "cell_type": "markdown",
   "id": "37b91501-2d5a-4e9c-8236-8c82d29517e1",
   "metadata": {},
   "source": [
    "##### Make Decision "
   ]
  },
  {
   "cell_type": "markdown",
   "id": "9d7af2c9-9302-4a02-b5e7-3d40bcbea8be",
   "metadata": {},
   "source": [
    "The p-value p = 0.4650 is greater than alpha = 0.05\\. We fail to reject the null hypothesis. There is an insufficient evidence to suggest that the mean difference between the scores of Exam 1 and Exam 2 is significantly different from zero. This implies that the two exams can be considered equally difficult based on the available data.\n"
   ]
  },
  {
   "cell_type": "markdown",
   "id": "1625e3e6-784b-43df-a863-980e94cbd029",
   "metadata": {},
   "source": [
    "### <a id=\"12\"></a> 2.1.3 Independent T-Test"
   ]
  },
  {
   "cell_type": "markdown",
   "id": "35ce5614-7144-4719-8684-e7fba3da2a11",
   "metadata": {},
   "source": [
    "A researcher is testing a new diet's effectiveness on weight loss. Two groups are involved:\n",
    "- Group 1: Individuals who followed the new diet.\n",
    "- Group 2: Individuals who followed their usual diet (control group).\n",
    "\n",
    "The variable of interest is weight loss (in kilograms) after 30 days. The researcher wants to determine if the new diet leads to greater weight loss compared to the usual diet.\n",
    "\n",
    "**According to this information, conduct the hypothesis testing to check whether the the new diet leads to greater weight loss compared to the usual diet.**"
   ]
  },
  {
   "cell_type": "markdown",
   "id": "f9da1681-2687-4ffb-ad6e-5bf7756be07e",
   "metadata": {},
   "source": [
    "**Group Comparison Dataset**\n",
    "\n",
    "|         | **1** | **2** | **3** | **4** | **5** | **6** | **7** | **8** | **9** | **10** |\n",
    "|---------|------:|------:|------:|------:|------:|------:|------:|------:|------:|-------:|\n",
    "| **Group 1** | 3.5 | 4.2 | 3.8 | 5.1 | 4.5 | 4.9 | 5.0 | 3.7 | 4.8 | 4.3 |\n",
    "| **Group 2** | 2.3 | 2.8 | 2.5 | 3.1 | 2.9 | 3.0 | 3.4 | 2.7 | 3.3 | 2.6 |\n"
   ]
  },
  {
   "cell_type": "markdown",
   "id": "6d926293-df40-4a35-9e0e-846067bce077",
   "metadata": {},
   "source": [
    "##### Define Hypothesis  "
   ]
  },
  {
   "cell_type": "markdown",
   "id": "395ee780-5286-458e-915f-f34e21aa53eb",
   "metadata": {},
   "source": [
    "$H_{0}$: $\\mu_{\\text{group 1}} \\leq \\mu_{\\text{group 2}}$  \n",
    "$H_{1}$: $\\mu_{\\text{group 1}} > \\mu_{\\text{group 2}}$"
   ]
  },
  {
   "cell_type": "markdown",
   "id": "dfde7b97-6b34-43ce-8a27-9901f1f6aa76",
   "metadata": {},
   "source": [
    "##### Check Assumptions "
   ]
  },
  {
   "cell_type": "code",
   "execution_count": 12,
   "id": "8d9faa1e-f94e-4bae-80c7-d071fe92171f",
   "metadata": {},
   "outputs": [],
   "source": [
    "group1 = [3.5, 4.2, 3.8, 5.1, 4.5, 4.9, 5.0, 3.7, 4.8, 4.3]  \n",
    "group2 = [2.3, 2.8, 2.5, 3.1, 2.9, 3.0, 3.4, 2.7, 3.3, 2.6]  "
   ]
  },
  {
   "cell_type": "code",
   "execution_count": 13,
   "id": "a70109da-4581-468b-be5b-74f7dd7e3d9e",
   "metadata": {},
   "outputs": [
    {
     "name": "stdout",
     "output_type": "stream",
     "text": [
      "Shapiro-Wilk Test Statistic: 0.9294\n",
      "Shapiro-Wilk p-value: 0.4418\n",
      "Significance Level: 0.05\n",
      "Result: Fail to reject the null hypothesis.\n",
      "The data follows a normal distribution.\n",
      "Shapiro-Wilk Test Statistic: 0.9840\n",
      "Shapiro-Wilk p-value: 0.9830\n",
      "Significance Level: 0.05\n",
      "Result: Fail to reject the null hypothesis.\n",
      "The data follows a normal distribution.\n"
     ]
    }
   ],
   "source": [
    "check_normality(group1)\n",
    "check_normality(group2)"
   ]
  },
  {
   "cell_type": "code",
   "execution_count": 14,
   "id": "81e75c5f-597d-4009-b05e-a3c9ca520d94",
   "metadata": {},
   "outputs": [
    {
     "name": "stdout",
     "output_type": "stream",
     "text": [
      "Levene's Test for Homogeneity of Variance\n",
      "Test Statistic: 3.6108\n",
      "p-value: 0.0735\n",
      "Significance Level: 0.05\n",
      "Result: Fail to reject the null hypothesis. Variances are homogeneous.\n"
     ]
    }
   ],
   "source": [
    "check_homogeneity(group1, group2)"
   ]
  },
  {
   "cell_type": "markdown",
   "id": "fb6bfc38-44e9-4737-b533-e522c45d8835",
   "metadata": {},
   "source": [
    "#####  Select the Appropriate Test "
   ]
  },
  {
   "cell_type": "markdown",
   "id": "29944867-d361-4d9d-b937-617cc5a29b7f",
   "metadata": {},
   "source": [
    "An **independent samples t-test** is selected to compare the means of a continuous variable between two independent groups since the groups are identically independent, normal and variances are homogene. "
   ]
  },
  {
   "cell_type": "markdown",
   "id": "1e5b2560-ba12-4f64-b094-06bd11f5142b",
   "metadata": {},
   "source": [
    "#####  Calculate Test Statistics"
   ]
  },
  {
   "cell_type": "code",
   "execution_count": 15,
   "id": "6f3d8319-628b-4e3e-b6bd-326bb2aeefde",
   "metadata": {},
   "outputs": [
    {
     "name": "stdout",
     "output_type": "stream",
     "text": [
      "T-Test Statistic: 7.138956918\n",
      "P-Value: 0.000000596\n"
     ]
    }
   ],
   "source": [
    "# Perform one-sided independent samples t-test\n",
    "from scipy.stats import ttest_ind\n",
    "\n",
    "t_stat, p_value = ttest_ind(group1, group2, equal_var=True, alternative='greater')\n",
    "print(f\"T-Test Statistic: {t_stat:.9f}\")\n",
    "print(f\"P-Value: {p_value:.9f}\")"
   ]
  },
  {
   "cell_type": "markdown",
   "id": "60981cc4-e1e4-41cd-88cb-0e79d35c1116",
   "metadata": {},
   "source": [
    "##### Make Decision "
   ]
  },
  {
   "cell_type": "markdown",
   "id": "e8cb8fff-e78d-40d0-8aa6-0dc0589aea6a",
   "metadata": {},
   "source": [
    "Since p = 0.000000596 < 0.05\\, we reject $H_{0}$. The sample data provides strong evidence to conclude that there is a statistically significant difference between the means of the two groups. "
   ]
  },
  {
   "cell_type": "markdown",
   "id": "604f85a6-4a49-45a9-96b2-bcd1303276ed",
   "metadata": {},
   "source": [
    "### <a id=\"13\"></a> 2.1.4 Repeated Measures ANOVA"
   ]
  },
  {
   "cell_type": "markdown",
   "id": "27cc1be1-4116-42a6-b299-89f468619514",
   "metadata": {},
   "source": [
    "A sports scientist wants to determine if a new fitness training program significantly improves athletes' sprint performance over time. \n",
    "\n",
    "To measure this, the scientist recorded the sprint times (in seconds) of 10 athletes at three different time points during the program:\n",
    "\n",
    "- Before Training: Baseline sprint time before the program starts.  \n",
    "- Mid-Training: Sprint time measured halfway through the program.  \n",
    "- After Training: Sprint time measured at the end of the program.  \n",
    "\n",
    "The recorded sprint times are as follows:\n",
    "\n",
    "| **Athlete** | **Before Training** | **Mid-Training** | **After Training** |\n",
    "|------------|----------------------|------------------|-------------------|\n",
    "| 1          | 12.5                | 12.0            | 11.8             |\n",
    "| 2          | 11.7                | 11.5            | 11.0             |\n",
    "| 3          | 12.8                | 12.3            | 11.9             |\n",
    "| 4          | 13.0                | 12.7            | 12.3             |\n",
    "| 5          | 12.2                | 11.8            | 11.5             |\n",
    "| 6          | 11.9                | 11.6            | 11.2             |\n",
    "| 7          | 12.6                | 12.2            | 11.7             |\n",
    "| 8          | 13.2                | 12.9            | 12.4             |\n",
    "| 9          | 12.4                | 12.0            | 11.6             |\n",
    "| 10         | 12.1                | 11.7            | 11.3             |\n"
   ]
  },
  {
   "cell_type": "markdown",
   "id": "91b2240a-4ab8-41ff-ab78-639b2aaddf98",
   "metadata": {},
   "source": [
    "**Research Objective:**  \n",
    "Determine whether there is a **significant difference in sprint times** across the three time points (**Before Training, Mid-Training, and After Training**) using a **0.05 significance level**."
   ]
  },
  {
   "cell_type": "markdown",
   "id": "ed3f1a1d-0d61-4801-93e3-ee65bcb51d3d",
   "metadata": {},
   "source": [
    "##### Define Hypothesis  "
   ]
  },
  {
   "cell_type": "markdown",
   "id": "c01c2e06-1e4b-4026-a217-df48b3016bfc",
   "metadata": {},
   "source": [
    "- $H_{0}$: There is **no significant difference** in sprint times across the three time points.\"$\\mu_{\\text{before}} = \\mu_{\\text{mid}} = \\mu_{\\text{end}}$\"\n",
    "- $H_{1}$: There is a **significant difference** in sprint times across at least two time points.\" at least one of $\\mu_{\\text{before}},\\mu_{\\text{mid}},\\mu_{\\text{end}}$ is different from others.\""
   ]
  },
  {
   "cell_type": "markdown",
   "id": "ca7006a6-910a-4ccb-a48f-d7b4b9eda63f",
   "metadata": {},
   "source": [
    "##### Check Assumptions "
   ]
  },
  {
   "cell_type": "code",
   "execution_count": 16,
   "id": "0ff97f69-442f-461f-9411-fbebd5026fc3",
   "metadata": {},
   "outputs": [],
   "source": [
    "import numpy as np \n",
    "\n",
    "before_training = np.array([12.5, 11.7, 12.8, 13.0, 12.2, 11.9, 12.6, 13.2, 12.4, 12.1])\n",
    "mid_training = np.array([12.0, 11.5, 12.3, 12.7, 11.8, 11.6, 12.2, 12.9, 12.0, 11.7])\n",
    "after_training = np.array([11.8, 11.0, 11.9, 12.3, 11.5, 11.2, 11.7, 12.4, 11.6, 11.3])"
   ]
  },
  {
   "cell_type": "code",
   "execution_count": 17,
   "id": "393ad602-868a-487a-9317-79ec4d50b8b1",
   "metadata": {},
   "outputs": [
    {
     "name": "stdout",
     "output_type": "stream",
     "text": [
      "Shapiro-Wilk Test Statistic: 0.9847\n",
      "Shapiro-Wilk p-value: 0.9852\n",
      "Significance Level: 0.05\n",
      "Result: Fail to reject the null hypothesis.\n",
      "The data follows a normal distribution.\n",
      "Shapiro-Wilk Test Statistic: 0.9386\n",
      "Shapiro-Wilk p-value: 0.5378\n",
      "Significance Level: 0.05\n",
      "Result: Fail to reject the null hypothesis.\n",
      "The data follows a normal distribution.\n",
      "Shapiro-Wilk Test Statistic: 0.9674\n",
      "Shapiro-Wilk p-value: 0.8656\n",
      "Significance Level: 0.05\n",
      "Result: Fail to reject the null hypothesis.\n",
      "The data follows a normal distribution.\n"
     ]
    }
   ],
   "source": [
    "# Check normality for each group\n",
    "check_normality(before_training)\n",
    "check_normality(mid_training)\n",
    "check_normality(after_training)"
   ]
  },
  {
   "cell_type": "code",
   "execution_count": 18,
   "id": "34ec5c6e-906d-4870-803f-19d0b4e5ae61",
   "metadata": {},
   "outputs": [
    {
     "name": "stdout",
     "output_type": "stream",
     "text": [
      "Levene's Test for Homogeneity of Variance\n",
      "Test Statistic: 0.0408\n",
      "p-value: 0.9601\n",
      "Significance Level: 0.05\n",
      "Result: Fail to reject the null hypothesis. Variances are homogeneous.\n"
     ]
    }
   ],
   "source": [
    "check_homogeneity(before_training, mid_training, after_training)"
   ]
  },
  {
   "cell_type": "markdown",
   "id": "12f94f77-12a6-44c8-be90-53079cd57d75",
   "metadata": {},
   "source": [
    "#####  Select the Appropriate Test "
   ]
  },
  {
   "cell_type": "markdown",
   "id": "99a188e1-8397-4242-889b-df59633d66dd",
   "metadata": {},
   "source": [
    "***Repeated Measures ANOVA*** is used because it compares the means of more than two paired groups (e.g., the same subjects measured at three time points) while meeting assumptions of normality, homogeneity of variance, independence, and no outliers."
   ]
  },
  {
   "cell_type": "markdown",
   "id": "05bc924f-ace2-4167-a528-65d56a4ffd08",
   "metadata": {},
   "source": [
    "#####  Calculate Test Statistics"
   ]
  },
  {
   "cell_type": "code",
   "execution_count": 19,
   "id": "1c14dbfe-40ce-4b70-8959-a6b94268f256",
   "metadata": {},
   "outputs": [
    {
     "name": "stdout",
     "output_type": "stream",
     "text": [
      "Repeated Measures ANOVA Results:\n",
      "F-statistic: 6.8728, p-value: 0.0039\n",
      "Result: Reject the null hypothesis → There is a significant difference between the groups\n",
      "\n"
     ]
    }
   ],
   "source": [
    "from scipy.stats import f_oneway\n",
    "\n",
    "# Perform One-Way ANOVA\n",
    "stat, p = f_oneway(before_training, mid_training, after_training)\n",
    "\n",
    "print(f\"Repeated Measures ANOVA Results:\")\n",
    "print(f\"F-statistic: {stat:.4f}, p-value: {p:.4f}\")\n",
    "\n",
    "if p < 0.05:\n",
    "    print(\"Result: Reject the null hypothesis → There is a significant difference between the groups\\n\")\n",
    "else:\n",
    "    print(\"Result: Fail to reject the null hypothesis → No significant difference between the groups\\n\")"
   ]
  },
  {
   "cell_type": "markdown",
   "id": "e59c61e4-f0a7-4591-8d89-3f9b6025c35b",
   "metadata": {},
   "source": [
    "- ANOVA (Analysis of Variance): Tests whether at least one group differs significantly from the others.\n",
    "- However, ANOVA does not tell us **which pairs of groups** (e.g., Before Training vs After Training) are responsible for the significant difference."
   ]
  },
  {
   "cell_type": "markdown",
   "id": "01bd7179-5046-4cc4-a94e-b6edf2bf08bb",
   "metadata": {},
   "source": [
    "***Pairwise T-Tests After ANOVA***"
   ]
  },
  {
   "cell_type": "code",
   "execution_count": 20,
   "id": "45ee3645-8eb5-4342-880c-82f9c3aa74bd",
   "metadata": {},
   "outputs": [
    {
     "data": {
      "text/html": [
       "<style type=\"text/css\">\n",
       "#T_3abbc_row0_col0, #T_3abbc_row0_col1, #T_3abbc_row1_col0, #T_3abbc_row1_col1, #T_3abbc_row1_col2, #T_3abbc_row2_col1, #T_3abbc_row2_col2 {\n",
       "  background-color: white;\n",
       "}\n",
       "#T_3abbc_row0_col2, #T_3abbc_row2_col0 {\n",
       "  background-color: lightblue;\n",
       "}\n",
       "</style>\n",
       "<table id=\"T_3abbc\">\n",
       "  <thead>\n",
       "    <tr>\n",
       "      <th class=\"blank level0\" >&nbsp;</th>\n",
       "      <th id=\"T_3abbc_level0_col0\" class=\"col_heading level0 col0\" >Before Training</th>\n",
       "      <th id=\"T_3abbc_level0_col1\" class=\"col_heading level0 col1\" >Mid Training</th>\n",
       "      <th id=\"T_3abbc_level0_col2\" class=\"col_heading level0 col2\" >After Training</th>\n",
       "    </tr>\n",
       "  </thead>\n",
       "  <tbody>\n",
       "    <tr>\n",
       "      <th id=\"T_3abbc_level0_row0\" class=\"row_heading level0 row0\" >Before Training</th>\n",
       "      <td id=\"T_3abbc_row0_col0\" class=\"data row0 col0\" >1.000000</td>\n",
       "      <td id=\"T_3abbc_row0_col1\" class=\"data row0 col1\" >0.287028</td>\n",
       "      <td id=\"T_3abbc_row0_col2\" class=\"data row0 col2\" >0.004953</td>\n",
       "    </tr>\n",
       "    <tr>\n",
       "      <th id=\"T_3abbc_level0_row1\" class=\"row_heading level0 row1\" >Mid Training</th>\n",
       "      <td id=\"T_3abbc_row1_col0\" class=\"data row1 col0\" >0.287028</td>\n",
       "      <td id=\"T_3abbc_row1_col1\" class=\"data row1 col1\" >1.000000</td>\n",
       "      <td id=\"T_3abbc_row1_col2\" class=\"data row1 col2\" >0.198325</td>\n",
       "    </tr>\n",
       "    <tr>\n",
       "      <th id=\"T_3abbc_level0_row2\" class=\"row_heading level0 row2\" >After Training</th>\n",
       "      <td id=\"T_3abbc_row2_col0\" class=\"data row2 col0\" >0.004953</td>\n",
       "      <td id=\"T_3abbc_row2_col1\" class=\"data row2 col1\" >0.198325</td>\n",
       "      <td id=\"T_3abbc_row2_col2\" class=\"data row2 col2\" >1.000000</td>\n",
       "    </tr>\n",
       "  </tbody>\n",
       "</table>\n"
      ],
      "text/plain": [
       "<pandas.io.formats.style.Styler at 0x1bc466f9df0>"
      ]
     },
     "execution_count": 20,
     "metadata": {},
     "output_type": "execute_result"
    }
   ],
   "source": [
    "import scikit_posthocs as sp\n",
    "import pandas as pd\n",
    "\n",
    "# Perform pairwise T-tests\n",
    "posthoc_df = sp.posthoc_ttest([before_training, mid_training, after_training], \n",
    "                              equal_var=True, \n",
    "                              p_adjust=\"bonferroni\")\n",
    "\n",
    "# Add group names\n",
    "group_names = [\"Before Training\", \"Mid Training\", \"After Training\"]\n",
    "posthoc_df.columns = group_names\n",
    "posthoc_df.index = group_names\n",
    "\n",
    "# Display with significant p-values highlighted using .map\n",
    "posthoc_styled = posthoc_df.style.map(\n",
    "    lambda x: \"background-color: lightblue\" if x < 0.05 else \"background-color: white\"\n",
    ")\n",
    "posthoc_styled\n"
   ]
  },
  {
   "cell_type": "markdown",
   "id": "7316324a-a395-47c2-ab68-6ff0c2a019aa",
   "metadata": {},
   "source": [
    "Cells highlighted in violet (p < 0.05) indicate significant differences between the groups.\n",
    "\n",
    "- Before Training vs After Training has a significant difference (p = 0.0049, highlighted in violet).\n",
    "- The other comparisons do not show significant differences."
   ]
  },
  {
   "cell_type": "markdown",
   "id": "23fd1c52-117f-49a3-8b50-a3b25f1a3b53",
   "metadata": {},
   "source": [
    "##### Make Decision "
   ]
  },
  {
   "cell_type": "markdown",
   "id": "9b618f0c-2320-48dc-ae75-6aacc5996ccd",
   "metadata": {},
   "source": [
    "**The sprint training program had a significant effect on sprint performance, but the main improvement occurred between the start (Before Training) and the end (After Training) of the program.**"
   ]
  },
  {
   "cell_type": "markdown",
   "id": "32d57ad9-e1de-48cd-93a6-16aff8fb7589",
   "metadata": {},
   "source": [
    "### <a id=\"14\"></a> 2.1.5 One-Way ANOVA"
   ]
  },
  {
   "cell_type": "markdown",
   "id": "66ae0b52-02ac-4e14-b16a-cab3ba2fd4b5",
   "metadata": {},
   "source": [
    "A researcher is studying the effect of three different fertilizers (A, B, and C) on plant growth. She grows plants using each fertilizer and measures their heights (in cm) after three weeks to determine which fertilizer promotes the tallest plants or if there’s no significant difference between them.\n",
    "\n",
    "The height measuremnets is as follows:"
   ]
  },
  {
   "cell_type": "markdown",
   "id": "098a82d6-d88e-41d4-a9be-2f97b4fb6668",
   "metadata": {},
   "source": [
    "**Fertilizer Dataset**\n",
    "\n",
    "|         | **1** | **2** | **3** | **4** | **5** | **6** | **7** | **8** | **9** | **10** | **11** | **12** | **13** | **14** | **15** | **16** | **17** | **18** | **19** | **20** |\n",
    "|---------|------:|------:|------:|------:|------:|------:|------:|------:|------:|-------:|-------:|-------:|-------:|-------:|-------:|-------:|-------:|-------:|-------:|-------:|\n",
    "| **Fertilizer A** | 15 | 16 | 17 | 15 | 18 | 16 | 14 | 17 | 16 | 15 | 16 | 14 | 15 | 15 | 16 | 14 | 17 | 16 | 15 | 14 |\n",
    "| **Fertilizer B** | 20 | 22 | 19 | 21 | 20 | 19 | 18 | 21 | 20 | 19 | 20 | 21 | 22 | 19 | 20 | 19 | 20 | 21 | 20 | 19 |\n",
    "| **Fertilizer C** | 12 | 13 | 11 | 14 | 12 | 12 | 13 | 11 | 14 | 13 | 12 | 11 | 13 | 12 | 15 | 15 | 12 | 14 | 13 | 11 |\n"
   ]
  },
  {
   "cell_type": "markdown",
   "id": "20214ae7-0505-4b10-be57-9d7d835e3891",
   "metadata": {},
   "source": [
    "**Research Objective:**  \n",
    "Determine whether there is a **significant difference in plant heihgts** among the three fertilizer groups (**Fertilizer A, Fertilizer B, Fertilizer C**) using a **0.05 significance level**."
   ]
  },
  {
   "cell_type": "markdown",
   "id": "e824570b-4f94-4d5e-8b1c-8bacfc8b9fd7",
   "metadata": {},
   "source": [
    "##### Define Hypothesis"
   ]
  },
  {
   "cell_type": "markdown",
   "id": "f1c994b0-77a2-4422-8abb-589da0e027c9",
   "metadata": {},
   "source": [
    "- $H_{0}$: There is **no significant difference** in plant height among the three fertilizer groups.\"$\\mu_{\\text{A}} = \\mu_{\\text{B}} = \\mu_{\\text{C}}$\"\n",
    "- $H_{1}$: There is a **significant difference** in sprint times across at least two time points.\" at least one of $\\mu_{\\text{A}},\\mu_{\\text{B}},\\mu_{\\text{C}}$ is different from others.\""
   ]
  },
  {
   "cell_type": "markdown",
   "id": "29e0eec9-a46e-4dac-8a63-c10976e57456",
   "metadata": {},
   "source": [
    "##### Check Assumptions "
   ]
  },
  {
   "cell_type": "code",
   "execution_count": 21,
   "id": "e3108c13-cd91-4e78-b322-7b30a4d86331",
   "metadata": {},
   "outputs": [],
   "source": [
    "fertilizer_a = np.array([15, 16, 17, 15, 18, 16, 14, 17, 16, 15, 16, 14, 15, 15, 16, 14, 17, 16, 15, 14])\n",
    "fertilizer_b = np.array([20, 22, 19, 21, 20, 19, 18, 21, 20, 19, 20, 21, 22, 19, 20, 19, 20, 21, 20, 19])\n",
    "fertilizer_c = np.array([12, 13, 11, 14, 12, 12, 13, 11, 14, 13, 12, 11, 13, 12, 15, 15, 12, 14, 13, 11])"
   ]
  },
  {
   "cell_type": "code",
   "execution_count": 22,
   "id": "321741de-e9d7-4e21-a239-6b8bfe314ee7",
   "metadata": {},
   "outputs": [
    {
     "name": "stdout",
     "output_type": "stream",
     "text": [
      "Shapiro-Wilk Test Statistic: 0.9165\n",
      "Shapiro-Wilk p-value: 0.0849\n",
      "Significance Level: 0.05\n",
      "Result: Fail to reject the null hypothesis.\n",
      "The data follows a normal distribution.\n",
      "Shapiro-Wilk Test Statistic: 0.9174\n",
      "Shapiro-Wilk p-value: 0.0883\n",
      "Significance Level: 0.05\n",
      "Result: Fail to reject the null hypothesis.\n",
      "The data follows a normal distribution.\n",
      "Shapiro-Wilk Test Statistic: 0.9099\n",
      "Shapiro-Wilk p-value: 0.0634\n",
      "Significance Level: 0.05\n",
      "Result: Fail to reject the null hypothesis.\n",
      "The data follows a normal distribution.\n"
     ]
    }
   ],
   "source": [
    "# Check normality for each group\n",
    "check_normality(fertilizer_a)\n",
    "check_normality(fertilizer_b)\n",
    "check_normality(fertilizer_c)"
   ]
  },
  {
   "cell_type": "code",
   "execution_count": 23,
   "id": "dea37ba6-d4d8-4ea6-aa64-601c1111f7a8",
   "metadata": {},
   "outputs": [
    {
     "name": "stdout",
     "output_type": "stream",
     "text": [
      "Levene's Test for Homogeneity of Variance\n",
      "Test Statistic: 0.7191\n",
      "p-value: 0.4915\n",
      "Significance Level: 0.05\n",
      "Result: Fail to reject the null hypothesis. Variances are homogeneous.\n"
     ]
    }
   ],
   "source": [
    "# Homogeneity of Variance Test\n",
    "check_homogeneity(fertilizer_a,fertilizer_b,fertilizer_c)"
   ]
  },
  {
   "cell_type": "markdown",
   "id": "1e20a975-cba3-4120-81b1-9892797dca4b",
   "metadata": {},
   "source": [
    "#####  Select the Appropriate Test "
   ]
  },
  {
   "cell_type": "markdown",
   "id": "43d5c8bf-6358-4f98-b5c4-4f97a6428d91",
   "metadata": {},
   "source": [
    "**One-Way ANOVA** is used because:\n",
    "- More than two independent groups (Fertilizer A, B, and C).\n",
    "- Assumptions of normality, homogeneity of variances, and independence are met."
   ]
  },
  {
   "cell_type": "markdown",
   "id": "442ca3c6-6dd8-4d22-9cd8-4ec883db5e22",
   "metadata": {},
   "source": [
    "#####  Calculate Test Statistics"
   ]
  },
  {
   "cell_type": "code",
   "execution_count": 24,
   "id": "b0000f86-c7df-4274-81fe-1203fb3503f7",
   "metadata": {},
   "outputs": [
    {
     "name": "stdout",
     "output_type": "stream",
     "text": [
      "=== One-Way ANOVA Results ===\n",
      "F-statistic: 201.6084, p-value: 0.0000\n",
      "Result: Reject the null hypothesis → There is a significant difference between the groups.\n",
      "\n"
     ]
    }
   ],
   "source": [
    "from scipy.stats import f_oneway\n",
    "\n",
    "# Perform One-Way ANOVA\n",
    "stat, p = f_oneway(fertilizer_a, fertilizer_b, fertilizer_c)\n",
    "\n",
    "print(f\"=== One-Way ANOVA Results ===\")\n",
    "print(f\"F-statistic: {stat:.4f}, p-value: {p:.4f}\")\n",
    "\n",
    "if p < 0.05:\n",
    "    print(\"Result: Reject the null hypothesis → There is a significant difference between the groups.\\n\")\n",
    "else:\n",
    "    print(\"Result: Fail to reject the null hypothesis → No significant difference between the groups.\\n\")"
   ]
  },
  {
   "cell_type": "markdown",
   "id": "f8e16b2b-2875-4d84-80d8-ab8790109ca7",
   "metadata": {},
   "source": [
    "To find in which groups we have differences:\n",
    "\n",
    "***Pairwise T-Tests After ANOVA***"
   ]
  },
  {
   "cell_type": "code",
   "execution_count": 25,
   "id": "373bf021-71f1-4229-8802-5790adfd9e25",
   "metadata": {},
   "outputs": [
    {
     "data": {
      "text/html": [
       "<style type=\"text/css\">\n",
       "#T_88018_row0_col0, #T_88018_row1_col1, #T_88018_row2_col2 {\n",
       "  background-color: white;\n",
       "}\n",
       "#T_88018_row0_col1, #T_88018_row0_col2, #T_88018_row1_col0, #T_88018_row1_col2, #T_88018_row2_col0, #T_88018_row2_col1 {\n",
       "  background-color: lightblue;\n",
       "}\n",
       "</style>\n",
       "<table id=\"T_88018\">\n",
       "  <thead>\n",
       "    <tr>\n",
       "      <th class=\"blank level0\" >&nbsp;</th>\n",
       "      <th id=\"T_88018_level0_col0\" class=\"col_heading level0 col0\" >Fertilizer A</th>\n",
       "      <th id=\"T_88018_level0_col1\" class=\"col_heading level0 col1\" >Fertilizer B</th>\n",
       "      <th id=\"T_88018_level0_col2\" class=\"col_heading level0 col2\" >Fertilizer C</th>\n",
       "    </tr>\n",
       "  </thead>\n",
       "  <tbody>\n",
       "    <tr>\n",
       "      <th id=\"T_88018_level0_row0\" class=\"row_heading level0 row0\" >Fertilizer A</th>\n",
       "      <td id=\"T_88018_row0_col0\" class=\"data row0 col0\" >1.000000</td>\n",
       "      <td id=\"T_88018_row0_col1\" class=\"data row0 col1\" >0.000000</td>\n",
       "      <td id=\"T_88018_row0_col2\" class=\"data row0 col2\" >0.000000</td>\n",
       "    </tr>\n",
       "    <tr>\n",
       "      <th id=\"T_88018_level0_row1\" class=\"row_heading level0 row1\" >Fertilizer B</th>\n",
       "      <td id=\"T_88018_row1_col0\" class=\"data row1 col0\" >0.000000</td>\n",
       "      <td id=\"T_88018_row1_col1\" class=\"data row1 col1\" >1.000000</td>\n",
       "      <td id=\"T_88018_row1_col2\" class=\"data row1 col2\" >0.000000</td>\n",
       "    </tr>\n",
       "    <tr>\n",
       "      <th id=\"T_88018_level0_row2\" class=\"row_heading level0 row2\" >Fertilizer C</th>\n",
       "      <td id=\"T_88018_row2_col0\" class=\"data row2 col0\" >0.000000</td>\n",
       "      <td id=\"T_88018_row2_col1\" class=\"data row2 col1\" >0.000000</td>\n",
       "      <td id=\"T_88018_row2_col2\" class=\"data row2 col2\" >1.000000</td>\n",
       "    </tr>\n",
       "  </tbody>\n",
       "</table>\n"
      ],
      "text/plain": [
       "<pandas.io.formats.style.Styler at 0x1bc468daa80>"
      ]
     },
     "execution_count": 25,
     "metadata": {},
     "output_type": "execute_result"
    }
   ],
   "source": [
    "import scikit_posthocs as sp\n",
    "import pandas as pd\n",
    "\n",
    "# Pairwise T-tests\n",
    "posthoc_df = sp.posthoc_ttest([fertilizer_a, fertilizer_b, fertilizer_c], \n",
    "                              equal_var=True, \n",
    "                              p_adjust=\"bonferroni\")\n",
    "\n",
    "# Add group names\n",
    "group_names = [\"Fertilizer A\", \"Fertilizer B\", \"Fertilizer C\"]\n",
    "posthoc_df.columns = group_names\n",
    "posthoc_df.index = group_names\n",
    "\n",
    "# Display results with light blue highlight for significant p-values\n",
    "posthoc_styled = posthoc_df.style.map(\n",
    "    lambda x: \"background-color: lightblue\" if x < 0.05 else \"background-color: white\"\n",
    ")\n",
    "posthoc_styled"
   ]
  },
  {
   "cell_type": "markdown",
   "id": "708892c2-fefa-4c64-8f20-3e0e2377c8e1",
   "metadata": {},
   "source": [
    "##### Make Decision "
   ]
  },
  {
   "cell_type": "markdown",
   "id": "019114df-73c2-49c1-bc6b-10ff5cd3ebf6",
   "metadata": {},
   "source": [
    "***Fertilizer A, B, and C all produce significantly different plant heights from one another. Each fertilizer has a unique effect on plant growth, and no two fertilizers yield the same results.***"
   ]
  },
  {
   "cell_type": "markdown",
   "id": "9c179f2d-437a-4910-b2ad-a922a1e9357c",
   "metadata": {},
   "source": [
    "### **Non - Parametric Tests**"
   ]
  },
  {
   "cell_type": "markdown",
   "id": "c07803c8-143e-4b7f-92e8-42097c7b6d2f",
   "metadata": {},
   "source": [
    "### <a id=\"16\"></a> 2.2.1 One-Sample Wilcoxon Signed-Rank Test  "
   ]
  },
  {
   "cell_type": "markdown",
   "id": "44bde2f0-4f5c-4f76-aeb5-8d5d8eeaaed3",
   "metadata": {},
   "source": [
    "A health app tracks users' daily steps and sets a goal of 8000 steps per day. The developers want to evaluate if users, on average, are meeting this target or falling short. Here is the mean daily steps of 15 person:"
   ]
  },
  {
   "cell_type": "markdown",
   "id": "844761bd-cdb1-41d7-94ad-8cd6265fb5fb",
   "metadata": {},
   "source": [
    "**Daily Steps Dataset**\n",
    "\n",
    "|  **Person** | **1**   | **2**   | **3**   | **4**   | **5**   | **6**   | **7**   | **8**   | **9**   | **10**  | **11**  | **12**  | **13**  | **14**  | **15**  |\n",
    "|---------|--------:|--------:|--------:|--------:|--------:|--------:|--------:|--------:|--------:|--------:|--------:|--------:|--------:|--------:|--------:|\n",
    "| **Steps** | 6407 | 14030 | 8950 | 7738 | 5508 | 5508 | 5179 | 11033 | 7757 | 8693 | 5062 | 15510 | 10359 | 5716 | 5602 |\n"
   ]
  },
  {
   "cell_type": "markdown",
   "id": "1e5c7a84-4223-411a-be56-2f9755c12024",
   "metadata": {},
   "source": [
    "**Research Objective**\n",
    "\n",
    "Determine whether the **average daily step count** of users is **significantly different** from the **8000-step target** using a **0.05 significance level**."
   ]
  },
  {
   "cell_type": "markdown",
   "id": "4cd1e9e4-8f97-4f1a-933a-5665c0b5de3d",
   "metadata": {},
   "source": [
    "##### Define Hypothesis"
   ]
  },
  {
   "cell_type": "markdown",
   "id": "d935e563-c662-4179-8d6c-8315d8840be2",
   "metadata": {},
   "source": [
    "- $H_{0}: \\text{Median}_{\\text{daily step counts}} = 8000$ \n",
    "- $H_{1}: \\text{Median}_{\\text{daily step counts}} \\neq 8000$\""
   ]
  },
  {
   "cell_type": "markdown",
   "id": "d5a551a6-58bc-46d4-9856-c6bf70fd88e3",
   "metadata": {},
   "source": [
    "***Note***: In this case, the assumption of normality was violated (as shown by the Shapiro-Wilk test), so the median difference is the focus of the analysis."
   ]
  },
  {
   "cell_type": "markdown",
   "id": "7188b5a3-d1a4-47c2-b131-7627c15c597d",
   "metadata": {},
   "source": [
    "##### Check Assumptions "
   ]
  },
  {
   "cell_type": "code",
   "execution_count": 26,
   "id": "d635fe37-8922-40ee-985b-bb9599c17c68",
   "metadata": {},
   "outputs": [],
   "source": [
    "step_counts = np.array([6407, 14030, 8950, 7738, 5508, 5508, 5179, 11033, 7757, 8693, 5062, 15510, 10359, 5716, 5602])"
   ]
  },
  {
   "cell_type": "code",
   "execution_count": 27,
   "id": "a31fd878-8672-44af-bde8-777f6c01e808",
   "metadata": {},
   "outputs": [
    {
     "name": "stdout",
     "output_type": "stream",
     "text": [
      "Shapiro-Wilk Test Statistic: 0.8567\n",
      "Shapiro-Wilk p-value: 0.0216\n",
      "Significance Level: 0.05\n",
      "Result: Reject the null hypothesis.\n",
      "The data does not follow a normal distribution.\n"
     ]
    }
   ],
   "source": [
    "check_normality(step_counts)"
   ]
  },
  {
   "cell_type": "markdown",
   "id": "8afc7b60-a375-4ea2-8344-0a3bb80e529d",
   "metadata": {},
   "source": [
    "#####  Select the Appropriate Test "
   ]
  },
  {
   "cell_type": "markdown",
   "id": "6ad839fc-d105-487e-bcba-8ed241b20df7",
   "metadata": {},
   "source": [
    "Use **One-Sample Wilcoxon Signed-Rank Test** this test because:\n",
    "- We have one sample group.\n",
    "- We are comparing it to a specific target (8000 steps).\n",
    "- Assumption does not met (not-normal)."
   ]
  },
  {
   "cell_type": "markdown",
   "id": "0a4ffaaf-30c2-4c07-820f-a5905a3369bb",
   "metadata": {},
   "source": [
    "#####  Calculate Test Statistics"
   ]
  },
  {
   "cell_type": "code",
   "execution_count": 28,
   "id": "ee40d78c-bf5a-4142-a03a-1fbf83a2fe98",
   "metadata": {},
   "outputs": [
    {
     "name": "stdout",
     "output_type": "stream",
     "text": [
      "Wilcoxon Signed-Rank Test Statistic: 56.0000\n",
      "p-value: 0.8469\n",
      "The result is not statistically significant (p ≥ 0.05).\n",
      "→ We fail to reject the null hypothesis: There is no significant difference from the target of 8000 steps.\n"
     ]
    }
   ],
   "source": [
    "# Perform One-Sample Wilcoxon Signed-Rank Test\n",
    "from scipy.stats import wilcoxon\n",
    "target_mean = 8000\n",
    "stat, p = wilcoxon(step_counts - target_mean)\n",
    "\n",
    "# Display results\n",
    "print(f\"Wilcoxon Signed-Rank Test Statistic: {stat:.4f}\")\n",
    "print(f\"p-value: {p:.4f}\")\n",
    "\n",
    "# Decision Rule\n",
    "alpha = 0.05  # Significance level\n",
    "\n",
    "if p < alpha:\n",
    "    print(\"The result is statistically significant (p < 0.05).\")\n",
    "    print(\"→ We reject the null hypothesis: The average daily step count is significantly different from 8000 steps.\")\n",
    "else:\n",
    "    print(\"The result is not statistically significant (p ≥ 0.05).\")\n",
    "    print(\"→ We fail to reject the null hypothesis: There is no significant difference from the target of 8000 steps.\")"
   ]
  },
  {
   "cell_type": "markdown",
   "id": "37667cc2-08cb-47fc-81a9-ddda357bdce3",
   "metadata": {},
   "source": [
    "##### Make Decision "
   ]
  },
  {
   "cell_type": "markdown",
   "id": "786ae196-55bf-4086-a717-9773c3b96f2f",
   "metadata": {},
   "source": [
    "Since \\(p = 0.8469 > 0.05\\), we fail to reject $H_{0}$. The sample data does not provide sufficient evidence to conclude that the mean daily steps count is different from 8000 steps."
   ]
  },
  {
   "cell_type": "markdown",
   "id": "bcc23cba-1fa2-4b30-958b-accd2d3021c6",
   "metadata": {},
   "source": [
    "### <a id=\"17\"></a> 2.2.2 Wilcoxon Signed-Rank Test "
   ]
  },
  {
   "cell_type": "markdown",
   "id": "db00c4d8-01c8-48a9-bb93-78703ba3eaa1",
   "metadata": {},
   "source": [
    "A weight-loss clinic tracks the progress of its clients by measuring their weights before and after a three-month diet program. The clinic wants to see if the program has been effective in reducing weight. The results as foollows: "
   ]
  },
  {
   "cell_type": "markdown",
   "id": "9616709b-6c68-407c-b398-0bda919a9b4c",
   "metadata": {},
   "source": [
    "**Weight-Loss Program Dataset**\n",
    "\n",
    "| **Person** | **Before Program** | **After Program** | **Difference (Before - After)** |\n",
    "|------------|--------------------|-------------------|---------------------------------|\n",
    "| 1          | 88                | 84               | 4                               |\n",
    "| 2          | 120               | 118              | 2                               |\n",
    "| 3          | 85                | 83               | 2                               |\n",
    "| 4          | 90                | 88               | 2                               |\n",
    "| 5          | 92                | 88               | 4                               |\n",
    "| 6          | 140               | 138              | 2                               |\n",
    "| 7          | 91                | 89               | 2                               |\n",
    "| 8          | 130               | 128              | 2                               |\n",
    "| 9          | 88                | 84               | 4                               |\n",
    "| 10         | 150               | 148              | 2                               |\n",
    "| 11         | 86                | 83               | 3                               |\n",
    "| 12         | 88                | 84               | 4                               |\n",
    "| 13         | 92                | 88               | 4                               |\n",
    "| 14         | 125               | 123              | 2                               |\n",
    "| 15         | 91                | 89               | 2                               |\n",
    "| 16         | 115               | 113              | 2                               |\n",
    "| 17         | 100               | 95               | 5                               |\n",
    "| 18         | 105               | 103              | 2                               |\n",
    "| 19         | 95                | 92               | 3                               |\n",
    "| 20         | 110               | 108              | 2                               |\n"
   ]
  },
  {
   "cell_type": "markdown",
   "id": "02523169-3e5e-4261-b8ba-18e01b15ca53",
   "metadata": {},
   "source": [
    "**Research Objective**\n",
    "- Does the three-month diet program significantly reduce clients' weights?\n",
    "- Determine whether the **median difference** between clients' weights **before and after** the three-month diet program is **statistically significant** at a **0.05 significance level**."
   ]
  },
  {
   "cell_type": "markdown",
   "id": "117e7c79-d84f-4389-82e0-3dc8840c1334",
   "metadata": {},
   "source": [
    "##### Define Hypothesis"
   ]
  },
  {
   "cell_type": "markdown",
   "id": "77cfa05c-8f81-41b7-ab0e-f50de83bd3f1",
   "metadata": {},
   "source": [
    "- $H_{0}: \\text{Median}_{\\text{before}} - \\text{Median}_{\\text{after}} \\leq 0 $ \n",
    "- $H_{1}: \\text{Median}_{\\text{before}} - \\text{Median}_{\\text{after}} > 0 $ \"weight has reduced\""
   ]
  },
  {
   "cell_type": "markdown",
   "id": "e193f4db-4cb3-4fe2-a5bf-f567e6d9dfc3",
   "metadata": {},
   "source": [
    "***Note***: In this case, the assumption of normality was violated (as shown by the Shapiro-Wilk test), so the median difference is the focus of the analysis."
   ]
  },
  {
   "cell_type": "markdown",
   "id": "2886b075-fdfd-46bd-92ed-27f39f6232ee",
   "metadata": {},
   "source": [
    "##### Check Assumptions "
   ]
  },
  {
   "cell_type": "code",
   "execution_count": 29,
   "id": "d64fce58-6f84-4b3a-baa6-4d25086eb04e",
   "metadata": {},
   "outputs": [],
   "source": [
    "before = np.array([88, 120, 85, 90, 92, 140, 91, 130, 88, 150, 86, 88, 92, 125, 91, 115, 100, 105, 95, 110])\n",
    "after = np.array([84, 118, 83, 88, 88, 138, 89, 128, 84, 148, 83, 84, 88, 123, 89, 113, 95, 103, 92, 108])"
   ]
  },
  {
   "cell_type": "code",
   "execution_count": 30,
   "id": "5fee681e-1b8a-4875-acda-65309211bdba",
   "metadata": {},
   "outputs": [
    {
     "name": "stdout",
     "output_type": "stream",
     "text": [
      "Shapiro-Wilk Test Statistic: 0.8452\n",
      "Shapiro-Wilk p-value: 0.0044\n",
      "Significance Level: 0.05\n",
      "Result: Reject the null hypothesis.\n",
      "The data does not follow a normal distribution.\n",
      "Shapiro-Wilk Test Statistic: 0.8373\n",
      "Shapiro-Wilk p-value: 0.0033\n",
      "Significance Level: 0.05\n",
      "Result: Reject the null hypothesis.\n",
      "The data does not follow a normal distribution.\n"
     ]
    }
   ],
   "source": [
    "check_normality(before)\n",
    "check_normality(after)"
   ]
  },
  {
   "cell_type": "code",
   "execution_count": 31,
   "id": "511fbb40-b984-4b0d-88b1-398291835c1a",
   "metadata": {},
   "outputs": [
    {
     "name": "stdout",
     "output_type": "stream",
     "text": [
      "Levene's Test for Homogeneity of Variance\n",
      "Test Statistic: 0.0045\n",
      "p-value: 0.9471\n",
      "Significance Level: 0.05\n",
      "Result: Fail to reject the null hypothesis. Variances are homogeneous.\n"
     ]
    }
   ],
   "source": [
    "# Homogeneity of Variance Test\n",
    "check_homogeneity(before,after)"
   ]
  },
  {
   "cell_type": "markdown",
   "id": "ca128937-8168-4c72-aa24-4226ef4963a2",
   "metadata": {},
   "source": [
    "#####  Select the Appropriate Test "
   ]
  },
  {
   "cell_type": "markdown",
   "id": "641b1c51-30a9-4077-92bb-79a587026093",
   "metadata": {},
   "source": [
    "- We have paired data.(before,after case)\n",
    "- The data not follow a normal distribution. (non-parametric)\n",
    "  \n",
    "***Therefore, the Wilcoxon Signed-Rank Test is appropriate.***"
   ]
  },
  {
   "cell_type": "markdown",
   "id": "c2148851-7bd0-42c3-9e10-5898f527c649",
   "metadata": {},
   "source": [
    "#####  Calculate Test Statistics"
   ]
  },
  {
   "cell_type": "code",
   "execution_count": 32,
   "id": "4ae072b2-7e9b-4c99-b96b-69f8c650d753",
   "metadata": {},
   "outputs": [
    {
     "name": "stdout",
     "output_type": "stream",
     "text": [
      "Wilcoxon Signed-Rank Test Statistic: 210.0000\n",
      "p-value: 0.0000\n",
      "The result is statistically significant (p < 0.05).\n",
      "→ We reject the null hypothesis: The diet program significantly reduced clients' weights.\n"
     ]
    }
   ],
   "source": [
    "# Calculate differences\n",
    "differences = before - after\n",
    "\n",
    "# Perform the Wilcoxon Signed-Rank Test (one-sided, testing reduction in weight)\n",
    "stat, p = wilcoxon(differences, alternative='greater')\n",
    "\n",
    "# Display results\n",
    "print(f\"Wilcoxon Signed-Rank Test Statistic: {stat:.4f}\")\n",
    "print(f\"p-value: {p:.4f}\")\n",
    "\n",
    "# Decision Rule\n",
    "alpha = 0.05  # Significance level\n",
    "\n",
    "if p < alpha:\n",
    "    print(\"The result is statistically significant (p < 0.05).\")\n",
    "    print(\"→ We reject the null hypothesis: The diet program significantly reduced clients' weights.\")\n",
    "else:\n",
    "    print(\"The result is not statistically significant (p ≥ 0.05).\")\n",
    "    print(\"→ We fail to reject the null hypothesis: There is no significant evidence that the diet program reduced clients' weights.\")"
   ]
  },
  {
   "cell_type": "markdown",
   "id": "cdb8c2a2-2c77-4bbf-9b0d-d38707ab22f0",
   "metadata": {},
   "source": [
    "##### Make Decision "
   ]
  },
  {
   "cell_type": "markdown",
   "id": "d491f191-d7a8-4ab1-a381-6b051f7a57b1",
   "metadata": {},
   "source": [
    "Since p < 0.05, reject $H_{0}$. Therefore, the weight-loss program has significantly reduced clients' weights."
   ]
  },
  {
   "cell_type": "markdown",
   "id": "c10d1527-a6ba-4005-8f0c-b87b7a4177bc",
   "metadata": {},
   "source": [
    "### <a id=\"18\"></a> 2.2.3 Mann-Whitney U Test  "
   ]
  },
  {
   "cell_type": "markdown",
   "id": "7c8a87fa-c0ac-4811-8654-6898535af9a5",
   "metadata": {},
   "source": [
    "Real estate analysts are comparing house prices in two cities. The first city (City A) has mostly average-sized homes, while the second city (City B) includes many luxury properties. They want to determine if the price distributions in these cities are significantly different. The house prices per cities as follows:"
   ]
  },
  {
   "cell_type": "markdown",
   "id": "e5773f57-f548-4631-bcde-0b643b7ff6c0",
   "metadata": {},
   "source": [
    "**House Price Dataset**\n",
    "\n",
    "|         | **1** | **2** | **3** | **4** | **5** | **6** | **7** | **8** | **9** | **10** | **11** | **12** | **13** |\n",
    "|---------|------:|------:|------:|------:|------:|------:|------:|------:|------:|-------:|-------:|-------:|-------:|\n",
    "| **City A** | 350000 | 360000 | 340000 | 330000 | 370000 | 355000 | 340000 | 200000 | 365000 | 360000 | 345000 | 355000 | 350000 |\n",
    "| **City B** | 400000 | 390000 | 410000 | 800000 | 420000 | 415000 | 395000 | 400000 | 405000 | 410000 | 400000 | 405000 | 410000 |\n"
   ]
  },
  {
   "cell_type": "markdown",
   "id": "52f1bb95-de9b-4c00-a82c-862e5b8555cb",
   "metadata": {},
   "source": [
    "**Research Objective**\n",
    "- Is there a statistically significant difference in house price distributions between City A and City B?\n",
    "- Determine whether the **house price distributions** in **City A** and **City B** are **significantly different** at a **0.05 significance level**."
   ]
  },
  {
   "cell_type": "markdown",
   "id": "29b4d8f2-1518-4c84-9897-74fd8c017193",
   "metadata": {},
   "source": [
    "##### Define Hypothesis"
   ]
  },
  {
   "cell_type": "markdown",
   "id": "50f20977-d4dd-4b8c-b40c-2f64e6062010",
   "metadata": {},
   "source": [
    "- $H_{0}: \\text{Distribution}_{\\text{(City A)}} = \\text{Distribution}_{\\text{(City B)}}$ \n",
    "- $H_{1}: \\text{Distribution}_{\\text{(City A)}} \\neq \\text{Distribution}_{\\text{(City B)}}$ "
   ]
  },
  {
   "cell_type": "markdown",
   "id": "ea3ee26a-5de1-4115-b8a2-9020359a92ab",
   "metadata": {},
   "source": [
    "##### Check Assumptions "
   ]
  },
  {
   "cell_type": "code",
   "execution_count": 34,
   "id": "6d87262b-1ee3-42df-9a55-e77042dc2431",
   "metadata": {},
   "outputs": [],
   "source": [
    "city_A = np.array([350000, 360000, 340000, 330000, 370000, 355000, 340000, 200000, 365000, 360000, 345000, 355000, 350000])\n",
    "city_B = np.array([400000, 390000, 410000, 800000, 420000, 415000, 395000, 400000, 405000, 410000, 400000, 405000, 410000])"
   ]
  },
  {
   "cell_type": "code",
   "execution_count": 35,
   "id": "f28000fa-d20c-4e61-ab95-5eb0d71bf36a",
   "metadata": {},
   "outputs": [
    {
     "name": "stdout",
     "output_type": "stream",
     "text": [
      "Shapiro-Wilk Test Statistic: 0.5559\n",
      "Shapiro-Wilk p-value: 0.0000\n",
      "Significance Level: 0.05\n",
      "Result: Reject the null hypothesis.\n",
      "The data does not follow a normal distribution.\n",
      "Shapiro-Wilk Test Statistic: 0.3803\n",
      "Shapiro-Wilk p-value: 0.0000\n",
      "Significance Level: 0.05\n",
      "Result: Reject the null hypothesis.\n",
      "The data does not follow a normal distribution.\n"
     ]
    }
   ],
   "source": [
    "check_normality(city_A)\n",
    "check_normality(city_B)"
   ]
  },
  {
   "cell_type": "code",
   "execution_count": 36,
   "id": "4fdaf294-b63a-4910-97e8-3065aa0abe36",
   "metadata": {},
   "outputs": [
    {
     "name": "stdout",
     "output_type": "stream",
     "text": [
      "Levene's Test for Homogeneity of Variance\n",
      "Test Statistic: 0.2696\n",
      "p-value: 0.6084\n",
      "Significance Level: 0.05\n",
      "Result: Fail to reject the null hypothesis. Variances are homogeneous.\n"
     ]
    }
   ],
   "source": [
    "# Homogeneity of Variance Test\n",
    "check_homogeneity(city_A,city_B)"
   ]
  },
  {
   "cell_type": "markdown",
   "id": "24dc9146-6acc-4b4c-9816-23231abe2433",
   "metadata": {},
   "source": [
    "#####  Select the Appropriate Test "
   ]
  },
  {
   "cell_type": "markdown",
   "id": "5379c4e7-d660-4cba-82cc-7ef66942dec5",
   "metadata": {},
   "source": [
    "- We are comparing two independent(unpaired) samples.\n",
    "- The data not follow a normal distribution.\n",
    " \n",
    "***Therefore, the Mann-Whitney U Test is appropriate.***"
   ]
  },
  {
   "cell_type": "markdown",
   "id": "6d9fd7af-5d07-47bc-8855-e789e984fa87",
   "metadata": {},
   "source": [
    "#####  Calculate Test Statistics"
   ]
  },
  {
   "cell_type": "code",
   "execution_count": 38,
   "id": "0bd61b5c-be85-4368-b5ab-f0eef4f9173c",
   "metadata": {},
   "outputs": [
    {
     "name": "stdout",
     "output_type": "stream",
     "text": [
      "Mann-Whitney U Test Statistic: 0.0000\n",
      "p-value: 0.0000\n",
      "The result is statistically significant (p < 0.05).\n",
      "→ We reject the null hypothesis: There is a significant difference in house prices between the two cities.\n"
     ]
    }
   ],
   "source": [
    "from scipy.stats import mannwhitneyu\n",
    "import numpy as np\n",
    "\n",
    "# Perform the Mann-Whitney U Test\n",
    "stat, p = mannwhitneyu(city_A, city_B, alternative='two-sided')\n",
    "\n",
    "# Display results\n",
    "print(f\"Mann-Whitney U Test Statistic: {stat:.4f}\")\n",
    "print(f\"p-value: {p:.4f}\")\n",
    "\n",
    "# Decision Rule\n",
    "alpha = 0.05  # Significance level\n",
    "\n",
    "if p < alpha:\n",
    "    print(\"The result is statistically significant (p < 0.05).\")\n",
    "    print(\"→ We reject the null hypothesis: There is a significant difference in house prices between the two cities.\")\n",
    "else:\n",
    "    print(\"The result is not statistically significant (p ≥ 0.05).\")\n",
    "    print(\"→ We fail to reject the null hypothesis: There is no significant difference in house prices between the two cities.\")\n"
   ]
  },
  {
   "cell_type": "markdown",
   "id": "c3cacb57-7825-4932-8d35-a0fe15ee6b6c",
   "metadata": {},
   "source": [
    "##### Make Decision "
   ]
  },
  {
   "cell_type": "markdown",
   "id": "8b42f3b6-96bb-4dad-9f09-334ea92f09de",
   "metadata": {},
   "source": [
    "Since the p-value = 0.0000 < 0.05, the result is statistically significant.\n",
    "\n",
    "- We reject the null hypothesis.\n",
    "- There is **sufficient evidence** to conclude that there is a **significant difference** in house price distributions between City A and City B.\n",
    "  \n",
    "This indicates that the housing markets in the two cities are not comparable in terms of price distribution."
   ]
  },
  {
   "cell_type": "markdown",
   "id": "9bcd3992-7fc0-4c44-87ad-7464d4b8de02",
   "metadata": {},
   "source": [
    "### <a id=\"19\"></a> 2.2.4 Friedman Test "
   ]
  },
  {
   "cell_type": "markdown",
   "id": "a4b266d1-7c4b-419f-9ecf-5eadb5723ac8",
   "metadata": {},
   "source": [
    "A software team is testing three different development tools to determine which one results in the fastest project completion times. Each tool is tested multiple times by the same team, and the completion times are recorded."
   ]
  },
  {
   "cell_type": "markdown",
   "id": "9e587d41-19fc-4df9-aef8-ee8c3f593dd9",
   "metadata": {},
   "source": [
    "**Completion Time Dataset**\n",
    "\n",
    "|         | **1** | **2** | **3** | **4** | **5** | **6** | **7** | **8** | **9** | **10** | **11** | **12** | **13** | **14** | **15** | **16** | **17** | **18** | **19** | **20** | **21** | **22** | **23** | **24** | **25** | **26** | **27** | **28** | **29** | **30** |\n",
    "|---------|------------------:|------------------:|------------------:|------------------:|------------------:|------------------:|------------------:|------------------:|------------------:|-------------------:|-------------------:|-------------------:|-------------------:|-------------------:|-------------------:|-------------------:|-------------------:|-------------------:|-------------------:|-------------------:|-------------------:|-------------------:|-------------------:|-------------------:|-------------------:|-------------------:|-------------------:|-------------------:|-------------------:|-------------------:|\n",
    "| **Tool A** | 5 | 6 | 5 | 6 | 8 | 7 | 5 | 6 | 6 | 5 | 9 | 7 | 5 | 6 | 6 | 5 | 6 | 5 | 7 | 8 | 6 | 5 | 6 | 5 | 8 | 7 | 5 | 6 | 7 | 6 |\n",
    "| **Tool B** | 10 | 5 | 4 | 15 | 12 | 5 | 14 | 5 | 5 | 4 | 10 | 4 | 15 | 4 | 5 | 4 | 9 | 5 | 6 | 14 | 11 | 4 | 10 | 4 | 15 | 5 | 4 | 6 | 12 | 5 |\n",
    "| **Tool C** | 20 | 6 | 7 | 8 | 15 | 6 | 7 | 6 | 7 | 6 | 14 | 7 | 8 | 6 | 7 | 6 | 18 | 7 | 8 | 9 | 14 | 6 | 7 | 6 | 15 | 8 | 6 | 9 | 13 | 7 |\n",
    "\n"
   ]
  },
  {
   "cell_type": "markdown",
   "id": "628108d5-3649-41b6-8425-b7c584cd5242",
   "metadata": {},
   "source": [
    "**Research Objective**\n",
    "- Is there a statistically significant difference in project completion times among the three tools when tested by the same team of developers?\n",
    "- Determine whether the **project completion times** for the three development tools (**Tool A**, **Tool B**, and **Tool C**) are **statistically different** at a **0.05 significance level**.\n"
   ]
  },
  {
   "cell_type": "markdown",
   "id": "3f9d6f3a-3d2d-4981-ad80-027e2a3c09a2",
   "metadata": {},
   "source": [
    "##### Define Hypothesis"
   ]
  },
  {
   "cell_type": "markdown",
   "id": "ab16bf5e-fba3-4040-b976-b165e037e7d9",
   "metadata": {},
   "source": [
    "- $H_{0}: \\text{Median}_{\\text{(Time of Tool A)}} = \\text{Median}_{\\text{(Time of Tool B)}}= \\text{Median}_{\\text{(Time of Tool C)}}$ \n",
    "- $H_{1}: \\text{At least one of the medians is significantly different from the others.}$ "
   ]
  },
  {
   "cell_type": "markdown",
   "id": "dd738072-71c7-43cd-b3a5-4891cfb3d8fb",
   "metadata": {},
   "source": [
    "##### Check Assumptions "
   ]
  },
  {
   "cell_type": "code",
   "execution_count": 53,
   "id": "4a91a55d-bcb0-4f1f-8bb1-5a3865848228",
   "metadata": {},
   "outputs": [],
   "source": [
    "# Dataset\n",
    "tool_a = np.array([\n",
    "    5, 6, 5, 6, 8, 7, 5, 6, 6, 5, 9, 7, 5, 6, 6, 5, 6, 5, 7, 8, 6, 5, 6, 5, 8, 7, 5, 6, 7, 6])\n",
    "\n",
    "tool_b = np.array([\n",
    "    10, 5, 4, 15, 12, 5, 14, 5, 5, 4, 10, 4, 15, 4, 5, 4, 9, 5, 6, 14, 11, 4, 10, 4, 15, 5, 4, 6, 12, 5])\n",
    "\n",
    "tool_c = np.array([\n",
    "    20, 6, 7, 8, 15, 6, 7, 6, 7, 6, 14, 7, 8, 6, 7, 6, 18, 7, 8, 9, 14, 6, 7, 6, 15, 8, 6, 9, 13, 7])\n"
   ]
  },
  {
   "cell_type": "code",
   "execution_count": 54,
   "id": "793976cf-4727-4432-b9c3-065e2bba1bca",
   "metadata": {},
   "outputs": [
    {
     "name": "stdout",
     "output_type": "stream",
     "text": [
      "Shapiro-Wilk Test Statistic: 0.8537\n",
      "Shapiro-Wilk p-value: 0.0007\n",
      "Significance Level: 0.05\n",
      "Result: Reject the null hypothesis.\n",
      "The data does not follow a normal distribution.\n",
      "Shapiro-Wilk Test Statistic: 0.8032\n",
      "Shapiro-Wilk p-value: 0.0001\n",
      "Significance Level: 0.05\n",
      "Result: Reject the null hypothesis.\n",
      "The data does not follow a normal distribution.\n",
      "Shapiro-Wilk Test Statistic: 0.7406\n",
      "Shapiro-Wilk p-value: 0.0000\n",
      "Significance Level: 0.05\n",
      "Result: Reject the null hypothesis.\n",
      "The data does not follow a normal distribution.\n"
     ]
    }
   ],
   "source": [
    "check_normality(tool_a)\n",
    "check_normality(tool_b)\n",
    "check_normality(tool_c)"
   ]
  },
  {
   "cell_type": "code",
   "execution_count": 55,
   "id": "e8a62452-c8c7-411a-b76d-8ef3836fb693",
   "metadata": {},
   "outputs": [
    {
     "name": "stdout",
     "output_type": "stream",
     "text": [
      "Levene's Test for Homogeneity of Variance\n",
      "Test Statistic: 5.3211\n",
      "p-value: 0.0066\n",
      "Significance Level: 0.05\n",
      "Result: Reject the null hypothesis. Variances are not homogeneous.\n"
     ]
    }
   ],
   "source": [
    "# Homogeneity of Variance Test\n",
    "check_homogeneity(tool_a,tool_b,tool_c)"
   ]
  },
  {
   "cell_type": "markdown",
   "id": "9230564b-0715-4fef-b50d-2047c8554d96",
   "metadata": {},
   "source": [
    "#####  Select the Appropriate Test "
   ]
  },
  {
   "cell_type": "markdown",
   "id": "c86232da-3058-4432-a89d-7d5f62b73214",
   "metadata": {},
   "source": [
    "- We have three related (dependent/paired) samples tested by the same group of developers.\n",
    "- The data not follow a normal distribution.\n",
    "    \n",
    "***Therefore, the Friedman Test is the appropriate choice.***"
   ]
  },
  {
   "cell_type": "markdown",
   "id": "daaff434-528f-43da-a183-35d872a93c6c",
   "metadata": {},
   "source": [
    "#####  Calculate Test Statistics"
   ]
  },
  {
   "cell_type": "code",
   "execution_count": 56,
   "id": "5693d527-b134-49e9-86ff-0b9d32daf70d",
   "metadata": {},
   "outputs": [
    {
     "name": "stdout",
     "output_type": "stream",
     "text": [
      "Friedman Test Statistic: 24.5841\n",
      "p-value: 0.0000\n",
      "The result is statistically significant (p < 0.05).\n",
      "→ We reject the null hypothesis: There is a significant difference in project completion times among the three tools.\n"
     ]
    }
   ],
   "source": [
    "from scipy.stats import friedmanchisquare\n",
    "\n",
    "# Perform the Friedman Test\n",
    "stat, p = friedmanchisquare(tool_a, tool_b, tool_c)\n",
    "\n",
    "# Display results\n",
    "print(f\"Friedman Test Statistic: {stat:.4f}\")\n",
    "print(f\"p-value: {p:.4f}\")\n",
    "\n",
    "# Decision Rule\n",
    "alpha = 0.05  # Significance level\n",
    "\n",
    "if p < alpha:\n",
    "    print(\"The result is statistically significant (p < 0.05).\")\n",
    "    print(\"→ We reject the null hypothesis: There is a significant difference in project completion times among the three tools.\")\n",
    "else:\n",
    "    print(\"The result is not statistically significant (p ≥ 0.05).\")\n",
    "    print(\"→ We fail to reject the null hypothesis: There is no significant difference in project completion times among the three tools.\")"
   ]
  },
  {
   "cell_type": "markdown",
   "id": "d393f004-9f0f-4c5c-b775-51bab57df68c",
   "metadata": {},
   "source": [
    "Since the result is statistically significant, follow up with a post-hoc analysis (e.g., pairwise comparisons using Wilcoxon Signed-Rank Test with Bonferroni correction) to identify which tools differ significantly."
   ]
  },
  {
   "cell_type": "code",
   "execution_count": 58,
   "id": "8c41a10e-7d2e-43f4-a429-46b5e5a5a54e",
   "metadata": {},
   "outputs": [
    {
     "data": {
      "text/html": [
       "<style type=\"text/css\">\n",
       "#T_dee0d_row0_col0, #T_dee0d_row0_col1, #T_dee0d_row1_col0, #T_dee0d_row1_col1, #T_dee0d_row2_col2 {\n",
       "  background-color: white;\n",
       "}\n",
       "#T_dee0d_row0_col2, #T_dee0d_row1_col2, #T_dee0d_row2_col0, #T_dee0d_row2_col1 {\n",
       "  background-color: lightblue;\n",
       "}\n",
       "</style>\n",
       "<table id=\"T_dee0d\">\n",
       "  <thead>\n",
       "    <tr>\n",
       "      <th class=\"blank level0\" >&nbsp;</th>\n",
       "      <th id=\"T_dee0d_level0_col0\" class=\"col_heading level0 col0\" >Tool A</th>\n",
       "      <th id=\"T_dee0d_level0_col1\" class=\"col_heading level0 col1\" >Tool B</th>\n",
       "      <th id=\"T_dee0d_level0_col2\" class=\"col_heading level0 col2\" >Tool C</th>\n",
       "    </tr>\n",
       "  </thead>\n",
       "  <tbody>\n",
       "    <tr>\n",
       "      <th id=\"T_dee0d_level0_row0\" class=\"row_heading level0 row0\" >Tool A</th>\n",
       "      <td id=\"T_dee0d_row0_col0\" class=\"data row0 col0\" >1.000000</td>\n",
       "      <td id=\"T_dee0d_row0_col1\" class=\"data row0 col1\" >1.000000</td>\n",
       "      <td id=\"T_dee0d_row0_col2\" class=\"data row0 col2\" >0.003794</td>\n",
       "    </tr>\n",
       "    <tr>\n",
       "      <th id=\"T_dee0d_level0_row1\" class=\"row_heading level0 row1\" >Tool B</th>\n",
       "      <td id=\"T_dee0d_row1_col0\" class=\"data row1 col0\" >1.000000</td>\n",
       "      <td id=\"T_dee0d_row1_col1\" class=\"data row1 col1\" >1.000000</td>\n",
       "      <td id=\"T_dee0d_row1_col2\" class=\"data row1 col2\" >0.011715</td>\n",
       "    </tr>\n",
       "    <tr>\n",
       "      <th id=\"T_dee0d_level0_row2\" class=\"row_heading level0 row2\" >Tool C</th>\n",
       "      <td id=\"T_dee0d_row2_col0\" class=\"data row2 col0\" >0.003794</td>\n",
       "      <td id=\"T_dee0d_row2_col1\" class=\"data row2 col1\" >0.011715</td>\n",
       "      <td id=\"T_dee0d_row2_col2\" class=\"data row2 col2\" >1.000000</td>\n",
       "    </tr>\n",
       "  </tbody>\n",
       "</table>\n"
      ],
      "text/plain": [
       "<pandas.io.formats.style.Styler at 0x1bc45efaa80>"
      ]
     },
     "execution_count": 58,
     "metadata": {},
     "output_type": "execute_result"
    }
   ],
   "source": [
    "import scikit_posthocs as sp\n",
    "import pandas as pd\n",
    "\n",
    "# Combine data into a long format DataFrame for post-hoc analysis\n",
    "data = pd.DataFrame({\n",
    "    \"Time\": np.concatenate([tool_a, tool_b, tool_c]),\n",
    "    \"Tool\": ([\"Tool A\"] * len(tool_a)) + ([\"Tool B\"] * len(tool_b)) + ([\"Tool C\"] * len(tool_c))\n",
    "})\n",
    "\n",
    "# Perform pairwise comparisons using Dunn's Test with Bonferroni correction\n",
    "posthoc_df = sp.posthoc_dunn(data, val_col='Time', group_col='Tool', p_adjust='bonferroni')\n",
    "\n",
    "# Display results with light blue highlight for significant p-values\n",
    "posthoc_styled = posthoc_df.style.map(\n",
    "    lambda x: \"background-color: lightblue\" if x < 0.05 else \"background-color: white\"\n",
    ")\n",
    "\n",
    "# Display the styled results\n",
    "posthoc_styled"
   ]
  },
  {
   "cell_type": "markdown",
   "id": "aa183a10-6c64-4d43-8acb-3883a002a59a",
   "metadata": {},
   "source": [
    "##### Make Decision "
   ]
  },
  {
   "cell_type": "markdown",
   "id": "28259735-014f-4c4d-8d55-1c8946af08af",
   "metadata": {},
   "source": [
    "- Friedman Test Statistic: 24.5841  \n",
    "- p-value: 0.0000 (p < 0.05)  \n",
    "- Statistically Significant Result:\n",
    "\n",
    "At least one tool's completion time differs significantly from the others."
   ]
  },
  {
   "cell_type": "markdown",
   "id": "684168ff-1a01-4fa4-97d2-d49425eb0ddc",
   "metadata": {},
   "source": [
    "**Post-Hoc Analysis (Wilcoxon Signed-Rank Test with Bonferroni Correction)**\n",
    "\n",
    "| **Comparison**   | **p-value** | **Interpretation**            |\n",
    "|------------------|-------------|--------------------------------|\n",
    "| Tool A vs Tool B | 1.000000    | No significant difference    |\n",
    "| Tool A vs Tool C | 0.003794    | Significant difference (\\(p < 0.05\\)) |\n",
    "| Tool B vs Tool C | 0.011715    | Significant difference (\\(p < 0.05\\)) |\n"
   ]
  },
  {
   "cell_type": "markdown",
   "id": "c3dc7adc-989a-45c7-aecb-3f1d9306fba5",
   "metadata": {},
   "source": [
    "Tool A vs Tool B (p = 1.0000)  \n",
    "- No statistically significant difference between **Tool A** and **Tool B**.\n",
    "\n",
    "Tool A vs Tool C (p = 0.0038)  \n",
    "- Statistically significant difference between **Tool A** and **Tool C**.  \n",
    "- Tool **C** has a **different completion time** compared to Tool **A**.\n",
    "\n",
    "Tool B vs Tool C (p = 0.0117) \n",
    "- Statistically significant difference between **Tool B** and **Tool C**.  \n",
    "- Tool **C** has a **different completion time** compared to Tool **B**."
   ]
  },
  {
   "cell_type": "markdown",
   "id": "c2c6c7ce-7248-4a4a-8afc-7e69017263c3",
   "metadata": {},
   "source": [
    "Therefore,\n",
    "- **Tool C stands out** as significantly different from both **Tool A** and **Tool B** in terms of project completion times.  \n",
    "- **Tool A and Tool B show no significant difference** between them. "
   ]
  },
  {
   "cell_type": "markdown",
   "id": "85739da6-e9d8-4044-ba0a-23c517a05447",
   "metadata": {},
   "source": [
    "### <a id=\"20\"></a> 2.2.5 Kruskal-Wallis H Test"
   ]
  },
  {
   "cell_type": "markdown",
   "id": "91ac524f-5eb7-47ba-9a79-95944fec5be7",
   "metadata": {},
   "source": [
    "A call center evaluates three customer service models and measures customer satisfaction scores for each model. The management wants to know if one model outperforms the others in terms of satisfaction. The costumer satisfaction scores as follows:"
   ]
  },
  {
   "cell_type": "markdown",
   "id": "f4618c36-ab75-469f-888c-6d86d70c3811",
   "metadata": {},
   "source": [
    "**Customer Satisfaction Scores Dataset**\n",
    "\n",
    "|           | **1** | **2** | **3** | **4** | **5** | **6** | **7** | **8** | **9** | **10** | **11** | **12** | **13** | **14** | **15** | **16** | **17** | **18** | **19** | **20** | **21** | **22** | **23** | **24** | **25** | **26** | **27** | **28** | **29** | **30** |\n",
    "|---------|------:|------:|------:|------:|------:|------:|------:|------:|------:|-------:|-------:|-------:|-------:|-------:|-------:|-------:|-------:|-------:|-------:|-------:|-------:|-------:|-------:|-------:|-------:|-------:|-------:|-------:|-------:|-------:|\n",
    "|  **Model A**  | 8 | 7 | 9 | 8 | 7 | 9 | 8 | 7 | 8 | 8 | 6 | 5 | 7 | 8 | 6 | 5 | 8 | 7 | 9 | 8 | 7 | 6 | 8 | 7 | 9 | 8 | 6 | 7 | 8 | 7 |\n",
    "|  **Model B**  | 2 | 5 | 7 | 6 | 5 | 7 | 6 | 5 | 6 | 6 | 10 | 9 | 8 | 7 | 8 | 7 | 6 | 5 | 6 | 5 | 7 | 8 | 5 | 6 | 7 | 6 | 8 | 5 | 9 | 7 |\n",
    "|  **Model C**  | 9 | 8 | 10 | 9 | 8 | 10 | 9 | 8 | 9 | 9 | 12 | 11 | 9 | 8 | 9 | 10 | 9 | 11 | 10 | 9 | 8 | 10 | 9 | 11 | 8 | 10 | 9 | 11 | 9 | 12 |\n"
   ]
  },
  {
   "cell_type": "markdown",
   "id": "25a5cd0d-5861-47fa-94ba-0504884d6076",
   "metadata": {},
   "source": [
    "**Research Objective**\n",
    "\n",
    "- Is there a statistically significant difference in customer satisfaction scores among the three customer service models?\n",
    "- To determine whether there is a **statistically significant difference** in customer satisfaction scores among Model A, Model B, and Model C  at a 0.05 significance level."
   ]
  },
  {
   "cell_type": "markdown",
   "id": "51b977a8-5157-43f5-ad4c-6adf8877a507",
   "metadata": {},
   "source": [
    "##### Define Hypothesis"
   ]
  },
  {
   "cell_type": "markdown",
   "id": "7d7581af-9047-4433-bbe3-281b2a329f1a",
   "metadata": {},
   "source": [
    "- $H_{0}: \\text{Median}_{\\text{(Model A)}} = \\text{Median}_{\\text{(Model B)}}= \\text{Median}_{\\text{(Model C)}}$ \n",
    "- $H_{1}: \\text{At least one of the medians is significantly different from the others.}$ "
   ]
  },
  {
   "cell_type": "markdown",
   "id": "547923cc-564a-493e-8651-af02850291b0",
   "metadata": {},
   "source": [
    "##### Check Assumptions "
   ]
  },
  {
   "cell_type": "code",
   "execution_count": 62,
   "id": "79c5efdb-f7de-45d4-b247-5bdfe35e107e",
   "metadata": {},
   "outputs": [],
   "source": [
    "model_a = np.array([\n",
    "    8, 7, 9, 8, 7, 9, 8, 7, 8, 8, 6, 5, 7, 8, 6, 5, 8, 7, 9, 8, 7, 6, 8, 7, 9, 8, 6, 7, 8, 7])\n",
    "\n",
    "model_b = np.array([\n",
    "    2, 5, 7, 6, 5, 7, 6, 5, 6, 6, 10, 9, 8, 7, 8, 7, 6, 5, 6, 5, 7, 8, 5, 6, 7, 6, 8, 5, 9, 7])\n",
    "\n",
    "model_c = np.array([\n",
    "    9, 8, 10, 9, 8, 10, 9, 8, 9, 9, 12, 11, 9, 8, 9, 10, 9, 11, 10, 9, 8, 10, 9, 11, 8, 10, 9, 11, 9, 12])"
   ]
  },
  {
   "cell_type": "code",
   "execution_count": 64,
   "id": "c4f867b9-e333-4387-8750-539e4091e9de",
   "metadata": {},
   "outputs": [
    {
     "name": "stdout",
     "output_type": "stream",
     "text": [
      "Shapiro-Wilk Test Statistic: 0.9052\n",
      "Shapiro-Wilk p-value: 0.0113\n",
      "Significance Level: 0.05\n",
      "Result: Reject the null hypothesis.\n",
      "The data does not follow a normal distribution.\n",
      "Shapiro-Wilk Test Statistic: 0.9371\n",
      "Shapiro-Wilk p-value: 0.0758\n",
      "Significance Level: 0.05\n",
      "Result: Fail to reject the null hypothesis.\n",
      "The data follows a normal distribution.\n",
      "Shapiro-Wilk Test Statistic: 0.8850\n",
      "Shapiro-Wilk p-value: 0.0037\n",
      "Significance Level: 0.05\n",
      "Result: Reject the null hypothesis.\n",
      "The data does not follow a normal distribution.\n"
     ]
    }
   ],
   "source": [
    "check_normality(model_a)\n",
    "check_normality(model_b)\n",
    "check_normality(model_c)"
   ]
  },
  {
   "cell_type": "code",
   "execution_count": 65,
   "id": "7f1855dd-aacc-4dc3-9721-fbbd29cbd642",
   "metadata": {},
   "outputs": [
    {
     "name": "stdout",
     "output_type": "stream",
     "text": [
      "Levene's Test for Homogeneity of Variance\n",
      "Test Statistic: 1.2309\n",
      "p-value: 0.2971\n",
      "Significance Level: 0.05\n",
      "Result: Fail to reject the null hypothesis. Variances are homogeneous.\n"
     ]
    }
   ],
   "source": [
    "# Homogeneity of Variance Test\n",
    "check_homogeneity(model_a,model_b,model_c)"
   ]
  },
  {
   "cell_type": "markdown",
   "id": "1a4a6d2e-d134-45d1-b2ea-f70062f9f077",
   "metadata": {},
   "source": [
    "#####  Select the Appropriate Test "
   ]
  },
  {
   "cell_type": "markdown",
   "id": "a692e2c1-3a2e-4b7f-8a30-d1366fcc97e5",
   "metadata": {},
   "source": [
    "**The Kruskal-Wallis H Test** is the appropriate statistical test because:\n",
    "\n",
    "- We are comparing three independent groups.\n",
    "- The data is not follow a normal distribution."
   ]
  },
  {
   "cell_type": "markdown",
   "id": "a222e54f-144b-4bf9-b200-2108073570a3",
   "metadata": {},
   "source": [
    "#####  Calculate Test Statistics"
   ]
  },
  {
   "cell_type": "code",
   "execution_count": 67,
   "id": "706e9f82-d4ee-4a64-8ba8-b68927dd65af",
   "metadata": {},
   "outputs": [
    {
     "name": "stdout",
     "output_type": "stream",
     "text": [
      "Kruskal-Wallis H Test Statistic: 47.1779\n",
      "p-value: 0.0000\n",
      "The result is statistically significant (p < 0.05).\n",
      "→ We reject the null hypothesis: There is a significant difference in customer satisfaction scores among the three models.\n"
     ]
    }
   ],
   "source": [
    "from scipy.stats import kruskal\n",
    "import numpy as np\n",
    "\n",
    "# Perform the Kruskal-Wallis H Test\n",
    "stat, p = kruskal(model_a, model_b, model_c)\n",
    "\n",
    "# Display results\n",
    "print(f\"Kruskal-Wallis H Test Statistic: {stat:.4f}\")\n",
    "print(f\"p-value: {p:.4f}\")\n",
    "\n",
    "# Decision Rule\n",
    "alpha = 0.05\n",
    "if p < alpha:\n",
    "    print(\"The result is statistically significant (p < 0.05).\")\n",
    "    print(\"→ We reject the null hypothesis: There is a significant difference in customer satisfaction scores among the three models.\")\n",
    "else:\n",
    "    print(\"The result is not statistically significant (p ≥ 0.05).\")\n",
    "    print(\"→ We fail to reject the null hypothesis: There is no significant difference in customer satisfaction scores among the three models.\")"
   ]
  },
  {
   "cell_type": "markdown",
   "id": "a7310e09-75d5-43dd-ae6a-020084d4b906",
   "metadata": {},
   "source": [
    "Since the result is statistically significant, follow up with a post-hoc analysis (e.g., pairwise comparisons using Wilcoxon Signed-Rank Test with Bonferroni correction) to identify which tools differ significantly."
   ]
  },
  {
   "cell_type": "code",
   "execution_count": 68,
   "id": "c0bd2a8e-309d-478d-8804-c799cb6b695c",
   "metadata": {},
   "outputs": [
    {
     "data": {
      "text/html": [
       "<style type=\"text/css\">\n",
       "#T_ebf0b_row0_col0, #T_ebf0b_row0_col1, #T_ebf0b_row1_col0, #T_ebf0b_row1_col1, #T_ebf0b_row2_col2 {\n",
       "  background-color: white;\n",
       "}\n",
       "#T_ebf0b_row0_col2, #T_ebf0b_row1_col2, #T_ebf0b_row2_col0, #T_ebf0b_row2_col1 {\n",
       "  background-color: lightblue;\n",
       "}\n",
       "</style>\n",
       "<table id=\"T_ebf0b\">\n",
       "  <thead>\n",
       "    <tr>\n",
       "      <th class=\"blank level0\" >&nbsp;</th>\n",
       "      <th id=\"T_ebf0b_level0_col0\" class=\"col_heading level0 col0\" >Model A</th>\n",
       "      <th id=\"T_ebf0b_level0_col1\" class=\"col_heading level0 col1\" >Model B</th>\n",
       "      <th id=\"T_ebf0b_level0_col2\" class=\"col_heading level0 col2\" >Model C</th>\n",
       "    </tr>\n",
       "  </thead>\n",
       "  <tbody>\n",
       "    <tr>\n",
       "      <th id=\"T_ebf0b_level0_row0\" class=\"row_heading level0 row0\" >Model A</th>\n",
       "      <td id=\"T_ebf0b_row0_col0\" class=\"data row0 col0\" >1.000000</td>\n",
       "      <td id=\"T_ebf0b_row0_col1\" class=\"data row0 col1\" >0.205599</td>\n",
       "      <td id=\"T_ebf0b_row0_col2\" class=\"data row0 col2\" >0.000004</td>\n",
       "    </tr>\n",
       "    <tr>\n",
       "      <th id=\"T_ebf0b_level0_row1\" class=\"row_heading level0 row1\" >Model B</th>\n",
       "      <td id=\"T_ebf0b_row1_col0\" class=\"data row1 col0\" >0.205599</td>\n",
       "      <td id=\"T_ebf0b_row1_col1\" class=\"data row1 col1\" >1.000000</td>\n",
       "      <td id=\"T_ebf0b_row1_col2\" class=\"data row1 col2\" >0.000000</td>\n",
       "    </tr>\n",
       "    <tr>\n",
       "      <th id=\"T_ebf0b_level0_row2\" class=\"row_heading level0 row2\" >Model C</th>\n",
       "      <td id=\"T_ebf0b_row2_col0\" class=\"data row2 col0\" >0.000004</td>\n",
       "      <td id=\"T_ebf0b_row2_col1\" class=\"data row2 col1\" >0.000000</td>\n",
       "      <td id=\"T_ebf0b_row2_col2\" class=\"data row2 col2\" >1.000000</td>\n",
       "    </tr>\n",
       "  </tbody>\n",
       "</table>\n"
      ],
      "text/plain": [
       "<pandas.io.formats.style.Styler at 0x1bc46a28f20>"
      ]
     },
     "execution_count": 68,
     "metadata": {},
     "output_type": "execute_result"
    }
   ],
   "source": [
    "import scikit_posthocs as sp\n",
    "import pandas as pd\n",
    "import numpy as np\n",
    "\n",
    "# Combine data into a long-format DataFrame for analysis\n",
    "data = pd.DataFrame({\n",
    "    \"Score\": np.concatenate([model_a, model_b, model_c]),\n",
    "    \"Model\": ([\"Model A\"] * len(model_a)) + ([\"Model B\"] * len(model_b)) + ([\"Model C\"] * len(model_c))\n",
    "})\n",
    "\n",
    "# Perform Dunn's Test with Bonferroni correction\n",
    "posthoc_df = sp.posthoc_dunn(data, val_col='Score', group_col='Model', p_adjust='bonferroni')\n",
    "\n",
    "# Display results with light blue highlight for significant p-values\n",
    "posthoc_styled = posthoc_df.style.map(\n",
    "    lambda x: \"background-color: lightblue\" if x < 0.05 else \"background-color: white\"\n",
    ")\n",
    "\n",
    "# Display the styled results\n",
    "posthoc_styled"
   ]
  },
  {
   "cell_type": "markdown",
   "id": "7c1949bc-d7af-4005-9cca-3ee78d541f95",
   "metadata": {},
   "source": [
    "##### Make Decision "
   ]
  },
  {
   "cell_type": "markdown",
   "id": "b04a91aa-ee52-4a85-b80a-4b9a01f83ca0",
   "metadata": {},
   "source": [
    "Kruskal-Wallis H Test Results:\n",
    "- Test Statistic: 47.1779  \n",
    "- p-value: 0.0000  \n",
    "- The result is **statistically significant** (\\(p < 0.05\\)).  \n",
    "- **Conclusion:** We reject the null hypothesis and conclude that there is a significant difference in customer satisfaction scores among the three models (Model A, Model B, and Model C)."
   ]
  },
  {
   "cell_type": "markdown",
   "id": "c71536f2-5bd3-4e06-9b9e-5fbed41a39f1",
   "metadata": {},
   "source": [
    "**Interpretation of Pairwise Comparisons:**\n",
    "1. **Model A vs Model B (p = 0.205599)**  \n",
    "   - No statistically significant difference between **Model A** and **Model B**.  \n",
    "\n",
    "2. **Model A vs Model C (p = 0.000004)**  \n",
    "   - **Statistically significant difference** between **Model A** and **Model C**.  \n",
    "   - **Model C outperforms Model A** in customer satisfaction.  \n",
    "\n",
    "3. **Model B vs Model C (p = 0.000008)**  \n",
    "   - **Statistically significant difference** between **Model B** and **Model C**.  \n",
    "   - **Model C outperforms Model B** in customer satisfaction.  "
   ]
  },
  {
   "cell_type": "markdown",
   "id": "3773e1d3-0f58-4a44-a1f4-5cc7a2ab5810",
   "metadata": {},
   "source": [
    "**Final Decision:**\n",
    "- **Model C** shows significantly higher customer satisfaction scores compared to **Model A** and **Model B**.  \n",
    "- There is **no significant difference** between **Model A** and **Model B** in terms of customer satisfaction."
   ]
  },
  {
   "cell_type": "markdown",
   "id": "e7a4d518-4b61-4d2a-bf75-d51862c0b697",
   "metadata": {},
   "source": [
    "***"
   ]
  },
  {
   "cell_type": "markdown",
   "id": "745e5158-1172-417b-8ce4-267fba086494",
   "metadata": {},
   "source": [
    "## <a id=\"21\"></a> 3. Discrete Data Hypothesis Testing "
   ]
  },
  {
   "cell_type": "markdown",
   "id": "56dcd948-cb23-492a-a29f-7bc06adea0b0",
   "metadata": {},
   "source": [
    "### <a id=\"22\"></a> 3.1.1 Binomial Test"
   ]
  },
  {
   "cell_type": "markdown",
   "id": "aa42df62-5267-4fb3-827d-4342ee454d4a",
   "metadata": {},
   "source": [
    "A fast-food chain recently introduced a new vegan burger. Management claims that at least 50% of customers prefer the vegan burger over traditional options. A random survey of 200 customers was conducted, and 95 customers preferred the vegan burger."
   ]
  },
  {
   "cell_type": "markdown",
   "id": "b8ddb8f6-2ccc-48b0-b562-ef6cc3c16aad",
   "metadata": {},
   "source": [
    "##### Research Objective"
   ]
  },
  {
   "cell_type": "markdown",
   "id": "9f40fc21-250f-4e7e-b376-49ca994b46db",
   "metadata": {},
   "source": [
    "To determine whether the proportion of customers who prefer the vegan burger is significantly different from 50%."
   ]
  },
  {
   "cell_type": "markdown",
   "id": "16419437-7455-4652-b63c-3520430d9f21",
   "metadata": {},
   "source": [
    "##### Define Hypothesis"
   ]
  },
  {
   "cell_type": "markdown",
   "id": "2d6d38d6-cab0-4a51-875b-c9a00eaf89e1",
   "metadata": {},
   "source": [
    "- $H_{0}: \\text{p} = 0.5$ (50% of customers prefer the vegan burger.) \n",
    "- $H_{1}: \\text{p} \\neq 0.5$\" (The preference rate is different from 50%.)"
   ]
  },
  {
   "cell_type": "markdown",
   "id": "f1876789-a82c-406f-bc81-c3e5b9c0cad3",
   "metadata": {},
   "source": [
    "#####  Select the Appropriate Test "
   ]
  },
  {
   "cell_type": "markdown",
   "id": "4a8154d3-de6f-4e8d-8437-5228835d296f",
   "metadata": {},
   "source": [
    "- Discrete data with One Sample\n",
    "- Binary outcomes (Success/Failure)\n",
    "- Observations are independent.\n",
    "  \n",
    "  ***Therefore, use Binomial Test.***"
   ]
  },
  {
   "cell_type": "markdown",
   "id": "09430417-f284-4613-b67d-790340c0a65f",
   "metadata": {},
   "source": [
    "#####  Calculate Test Statistics"
   ]
  },
  {
   "cell_type": "code",
   "execution_count": 72,
   "id": "31dc0942-612d-4f4b-aba4-d66139c9cfc1",
   "metadata": {},
   "outputs": [
    {
     "name": "stdout",
     "output_type": "stream",
     "text": [
      "p-value: 0.5246223557223147\n"
     ]
    }
   ],
   "source": [
    "import scipy.stats as stats\n",
    "\n",
    "# Data\n",
    "n_trials = 200  # Total number of customers surveyed\n",
    "n_success = 95  # Number of customers who preferred the vegan burger\n",
    "\n",
    "# Binomial Test\n",
    "result = stats.binomtest(n_success, n_trials, p=0.5, alternative='two-sided')\n",
    "print(\"p-value:\", result.pvalue)\n"
   ]
  },
  {
   "cell_type": "markdown",
   "id": "432642c1-fdcf-4d72-8ffe-27d5db27486f",
   "metadata": {},
   "source": [
    "##### Make Decision "
   ]
  },
  {
   "cell_type": "markdown",
   "id": "5d000219-d772-4ed9-8c8f-dfd707b4cb84",
   "metadata": {},
   "source": [
    "At a 5% significance level, there is insufficient evidence to suggest that the preference rate for the vegan burger is significantly different from 50%.\n",
    "The data does not provide strong enough evidence to challenge the management's claim that 50% of customers prefer the vegan burger."
   ]
  },
  {
   "cell_type": "markdown",
   "id": "eaa05a80-b88a-48c9-b5e1-e45915ef40cd",
   "metadata": {},
   "source": [
    "### <a id=\"24\"></a> 3.2.1 McNemar Test (Paired) "
   ]
  },
  {
   "cell_type": "markdown",
   "id": "4e8fac88-0a49-444e-86a6-ab2dc80b4a9d",
   "metadata": {},
   "source": [
    "A software company conducted a training program to improve employee proficiency with a new software tool. 100 employees were surveyed before and after the training to check if they felt confident using the software."
   ]
  },
  {
   "cell_type": "markdown",
   "id": "174f5c21-5bb3-4c48-8362-40e52521e76a",
   "metadata": {},
   "source": [
    "**Contingency Table:**\n",
    "\n",
    "|   | After Training (Confident) | After Training (Not Confident) |\n",
    "|---|----------------------------|-------------------------------|\n",
    "| **Before Training (Confident)** | 60                          | 10                           |\n",
    "| **Before Training (Not Confident)** | 20                          | 10                           |\n"
   ]
  },
  {
   "cell_type": "markdown",
   "id": "befa79f5-dbd0-4085-a340-e7395d8001f8",
   "metadata": {},
   "source": [
    "##### Research Objective"
   ]
  },
  {
   "cell_type": "markdown",
   "id": "22466ab0-d2f1-4b6f-be29-de329d231439",
   "metadata": {},
   "source": [
    "Test whether a training program significantly increased employee confidence in using a software tool."
   ]
  },
  {
   "cell_type": "markdown",
   "id": "90698b7b-1355-4956-83e1-bf3161de2afc",
   "metadata": {},
   "source": [
    "##### Define Hypothesis"
   ]
  },
  {
   "cell_type": "markdown",
   "id": "4812cbf9-4f4c-41d2-ab4f-5382601e7acb",
   "metadata": {},
   "source": [
    "- $H_{0}: \\text{p}_{\\text{change}} = 0$ (No significant change in confidence levels.)\n",
    "- $H_{1}: \\text{p}_{\\text{chage}} \\neq 0$\" (Significant change in confidence levels.)"
   ]
  },
  {
   "cell_type": "markdown",
   "id": "1c685535-8210-4f45-a82c-78037a92234f",
   "metadata": {},
   "source": [
    "#####  Select the Appropriate Test "
   ]
  },
  {
   "cell_type": "markdown",
   "id": "196fb8b2-e092-4c63-ab08-8233f861cdbf",
   "metadata": {},
   "source": [
    "- The data is **paired** (Before/After observations for the same employees).  \n",
    "- Binary outcomes (Confident / Not Confident).  \n",
    "- Observations are independent. \n",
    "    \n",
    "***Therefore, use  McNemar Test.***"
   ]
  },
  {
   "cell_type": "markdown",
   "id": "a54b8557-3f84-426b-965b-42d6d43acc14",
   "metadata": {},
   "source": [
    "#####  Calculate Test Statistics"
   ]
  },
  {
   "cell_type": "code",
   "execution_count": 78,
   "id": "d98066ba-27b5-4374-867a-a4061715d2b9",
   "metadata": {},
   "outputs": [
    {
     "name": "stdout",
     "output_type": "stream",
     "text": [
      "test statistics: 10.0\n",
      "p-value: 0.09873714670538905\n"
     ]
    }
   ],
   "source": [
    "from statsmodels.stats.contingency_tables import mcnemar\n",
    "\n",
    "# Data\n",
    "table = [[60, 10],  # Before Confident → After Confident/Not Confident\n",
    "         [20, 10]]  # Before Not Confident → After Confident/Not Confident\n",
    "\n",
    "# McNemar Test\n",
    "result = mcnemar(table, exact=True)\n",
    "\n",
    "print(\"test statistics:\", result.statistic)\n",
    "print(\"p-value:\", result.pvalue)"
   ]
  },
  {
   "cell_type": "markdown",
   "id": "f90e4481-02c2-4d17-b410-74d231868d7c",
   "metadata": {},
   "source": [
    "##### Make Decision "
   ]
  },
  {
   "cell_type": "markdown",
   "id": "78e5f5bc-00e0-4f0a-9a2a-fccb4f1ecd39",
   "metadata": {},
   "source": [
    "Since p = 0.0987 > 0.05, we fail to reject the null hypothesis.\n",
    "\n",
    "At a 5% significance level, there is insufficient evidence to conclude that the training program had a statistically significant effect on employee confidence."
   ]
  },
  {
   "cell_type": "markdown",
   "id": "912d2eef-1e6d-4b80-b769-3774d03272c9",
   "metadata": {},
   "source": [
    "### <a id=\"25\"></a> 3.2.2 Fisher's Exact Test (Unpaired) "
   ]
  },
  {
   "cell_type": "markdown",
   "id": "b693dfc5-1779-4ba3-b59e-ed83413b4dce",
   "metadata": {},
   "source": [
    "A hospital wants to know whether there is an association between treatment type (Drug A vs. Drug B) and patient recovery. A sample of 120 patients was analyzed."
   ]
  },
  {
   "cell_type": "markdown",
   "id": "eaa69111-1caa-47a7-8e29-cbcec9d1c822",
   "metadata": {},
   "source": [
    "**Contingency Table:**\n",
    "\n",
    "|          | **Recovered** | **Not Recovered** |\n",
    "|----------|---------------|-------------------|\n",
    "| **Drug A** | 40            | 20                |\n",
    "| **Drug B** | 30            | 30                |"
   ]
  },
  {
   "cell_type": "markdown",
   "id": "5a9ba295-4524-411c-a128-60cf1c5a7980",
   "metadata": {},
   "source": [
    "##### Research Objective"
   ]
  },
  {
   "cell_type": "markdown",
   "id": "7eb806b2-709f-4353-9409-363e22ef04fc",
   "metadata": {},
   "source": [
    "Determine if there is a significant association between treatment type (Drug A vs. Drug B) and patient recovery."
   ]
  },
  {
   "cell_type": "markdown",
   "id": "24a082c8-57c5-4839-a5f4-52a9d99408d6",
   "metadata": {},
   "source": [
    "##### Define Hypothesis"
   ]
  },
  {
   "cell_type": "markdown",
   "id": "cfc874b0-64fa-4e31-a5a8-5f15e94d968a",
   "metadata": {},
   "source": [
    "- $H_{0}: \\text{p}_{\\text{A}} = \\text{p}_{\\text{B}}$ (Recovery rates are the same across treatment types.)\n",
    "- $H_{1}: \\text{p}_{\\text{A}} \\neq \\text{p}_{\\text{B}}$ (Recovery rates differ based on treatment type.)"
   ]
  },
  {
   "cell_type": "markdown",
   "id": "f1ed9759-f355-4be8-9933-b92e61766ac7",
   "metadata": {},
   "source": [
    "#####  Select the Appropriate Test "
   ]
  },
  {
   "cell_type": "markdown",
   "id": "aa4bd349-128d-433c-86a6-a7b245f9e6c3",
   "metadata": {},
   "source": [
    "- The data is **unpaired**.  \n",
    "- Binary outcomes.  \n",
    "- Observations are independent. \n",
    "    \n",
    "***Therefore, use Fisher's Exact Test.***"
   ]
  },
  {
   "cell_type": "markdown",
   "id": "0a7e4e98-3702-480b-bc5c-9421613c7f2f",
   "metadata": {},
   "source": [
    "#####  Calculate Test Statistics"
   ]
  },
  {
   "cell_type": "code",
   "execution_count": 79,
   "id": "7652d1f2-6cc1-4c9c-ab8c-0bc5390f7ba5",
   "metadata": {},
   "outputs": [
    {
     "name": "stdout",
     "output_type": "stream",
     "text": [
      "Fisher's Exact Test p-value: 0.09517408734609471\n"
     ]
    }
   ],
   "source": [
    "from scipy.stats import fisher_exact\n",
    "\n",
    "# Data\n",
    "table = [[40, 20],\n",
    "         [30, 30]]\n",
    "\n",
    "# Fisher's Exact Test\n",
    "oddsratio, p_value = fisher_exact(table)\n",
    "print(\"Fisher's Exact Test p-value:\", p_value)"
   ]
  },
  {
   "cell_type": "markdown",
   "id": "6010498b-ad67-4b7b-a822-7a7a2ec18ea6",
   "metadata": {},
   "source": [
    "##### Make Decision "
   ]
  },
  {
   "cell_type": "markdown",
   "id": "1a006329-1771-435e-81a4-1c8cf2d947bf",
   "metadata": {},
   "source": [
    "Since p = 0.0952 > 0.05, we fail to reject null hypothesis.\n",
    "\n",
    "At a 5% significance level, there is insufficient evidence to suggest a statistically significant association between drug type (Drug A vs. Drug B) and patient recovery rates."
   ]
  },
  {
   "cell_type": "markdown",
   "id": "f522dc91-0271-47a1-bc97-414f59b3eb60",
   "metadata": {},
   "source": [
    "### <a id=\"27\"></a> 3.3.1 Cochran's Q Test (Paired) "
   ]
  },
  {
   "cell_type": "markdown",
   "id": "dd2724ba-0702-4ebe-ad04-ffb2508fff8e",
   "metadata": {},
   "source": [
    "A university lecturer wanted to test the effectiveness of three different study techniques (Flashcards, Online Quizzes, and Group Discussions) in improving student exam performance. A sample of 30 students was tested after each method."
   ]
  },
  {
   "cell_type": "markdown",
   "id": "c9947ef4-4add-44e2-a0a4-f2e5dcc547cd",
   "metadata": {},
   "source": [
    "**Student Pass Rates Across Study Techniques:**\n",
    "\n",
    "- **Flashcards:** [1, 0, 1, 0, 1, 1, 0, 1, 0, 1]  \n",
    "- **Online Quizzes:** [1, 1, 1, 0, 1, 1, 0, 1, 1, 1]  \n",
    "- **Group Discussions:** [1, 1, 1, 1, 1, 1, 1, 1, 1, 1]  "
   ]
  },
  {
   "cell_type": "markdown",
   "id": "794b2bfe-8dc2-43b2-bbcb-1be6203d8c4c",
   "metadata": {},
   "source": [
    "##### Research Objective"
   ]
  },
  {
   "cell_type": "markdown",
   "id": "77ee8496-eac7-4a32-b961-cb77fa8a04d6",
   "metadata": {},
   "source": [
    "Determine if there is a significant difference in student performance across three study methods (Flashcards, Online Quizzes, Group Discussions)."
   ]
  },
  {
   "cell_type": "markdown",
   "id": "cfe969a0-e3af-48ce-9827-49e84203b9b3",
   "metadata": {},
   "source": [
    "##### Define Hypothesis"
   ]
  },
  {
   "cell_type": "markdown",
   "id": "a490739f-6df8-4415-89a9-c8547fd68a72",
   "metadata": {},
   "source": [
    "- $H_{0}$: No significant difference in performance across the three techniques. \n",
    "- $H_{1}$: At least one technique is significantly different."
   ]
  },
  {
   "cell_type": "markdown",
   "id": "808cda81-c127-46b2-8bf9-9a93e6613f4c",
   "metadata": {},
   "source": [
    "#####  Select the Appropriate Test "
   ]
  },
  {
   "cell_type": "markdown",
   "id": "31557b60-a69d-4a94-b260-01ffa18edd7a",
   "metadata": {},
   "source": [
    "- Binary outcomes (Pass = 1, Fail = 0).  \n",
    "- Paired samples (each student used all three study techniques).  \n",
    "- Independent observations across students.  \n",
    "\n",
    "***Use Cochran's Q Test.***"
   ]
  },
  {
   "cell_type": "markdown",
   "id": "e72a77c1-cb6c-4608-89f4-dbbc6bbfd45f",
   "metadata": {},
   "source": [
    "#####  Calculate Test Statistics"
   ]
  },
  {
   "cell_type": "code",
   "execution_count": 84,
   "id": "94a777bc-beb8-4787-887c-2982f27bc8cc",
   "metadata": {},
   "outputs": [
    {
     "name": "stdout",
     "output_type": "stream",
     "text": [
      "Test Statistic (Q): 6.0\n",
      "p-value: 0.0498\n"
     ]
    }
   ],
   "source": [
    "from statsmodels.stats.contingency_tables import cochrans_q\n",
    "\n",
    "# Data\n",
    "data = [\n",
    "    [1, 0, 1, 0, 1, 1, 0, 1, 0, 1],  # Flashcards\n",
    "    [1, 1, 1, 0, 1, 1, 0, 1, 1, 1],  # Online Quizzes\n",
    "    [1, 1, 1, 1, 1, 1, 1, 1, 1, 1]   # Group Discussions\n",
    "]\n",
    "\n",
    "# Transpose data to have each row represent a participant\n",
    "import numpy as np\n",
    "data = np.array(data).T\n",
    "\n",
    "# Cochran's Q Test\n",
    "result = cochrans_q(data)\n",
    "\n",
    "# Extract values from the result object\n",
    "stat = result.statistic\n",
    "p_value = result.pvalue\n",
    "\n",
    "print(\"Test Statistic (Q):\", round(stat, 4))\n",
    "print(\"p-value:\", round(p_value, 4))\n"
   ]
  },
  {
   "cell_type": "markdown",
   "id": "9abaa59d-41ac-4aa0-b943-0100acb9267c",
   "metadata": {},
   "source": [
    "##### Make Decision "
   ]
  },
  {
   "cell_type": "markdown",
   "id": "ed6db289-997d-478d-a582-88d4af4bb724",
   "metadata": {},
   "source": [
    "Since p = 0.0498 ≈ 0.05, it is very close to the significance threshold.\n",
    "\n",
    "p ≤ 0.05 → We reject null hypothesis.\n",
    "\n",
    "At a 5% significance level, there is sufficient evidence to suggest that there is a statistically significant difference in student pass rates across the three study techniques."
   ]
  },
  {
   "cell_type": "markdown",
   "id": "9be792f6-13f3-478f-b71c-dc8dea23a792",
   "metadata": {},
   "source": [
    "### <a id=\"28\"></a> 3.3.2 Chi-Square Test (Unpaired) "
   ]
  },
  {
   "cell_type": "markdown",
   "id": "eae7fff6-c717-4a1c-b604-5b3d46c896e9",
   "metadata": {},
   "source": [
    "A shopping mall manager wants to know if there is a relationship between age group and shopping preferences (Electronics, Clothing, Food). A sample of 300 shoppers was analyzed."
   ]
  },
  {
   "cell_type": "markdown",
   "id": "26258253-ee22-484a-bb75-2bd5cadfbf99",
   "metadata": {},
   "source": [
    "**Contingency Table:**\n",
    "\n",
    "| Age Group | **Electronics** | **Clothing** | **Food** | **Total** |\n",
    "|-----------|------------------|-------------|---------|-----------|\n",
    "| **18-25** | 50              | 70          | 30      | 150       |\n",
    "| **26-40** | 60              | 80          | 40      | 180       |\n",
    "| **41-60** | 40              | 50          | 30      | 120       |\n",
    "| **Total** | 150             | 200         | 100     | **450**   |"
   ]
  },
  {
   "cell_type": "markdown",
   "id": "3b59270f-da24-4131-9fb9-7cdda30ac2f7",
   "metadata": {},
   "source": [
    "##### Research Objective"
   ]
  },
  {
   "cell_type": "markdown",
   "id": "488f5e5c-a849-43ad-be0b-18adb7c55e41",
   "metadata": {},
   "source": [
    "Test whether there is a **significant association between age group and shopping preferences**."
   ]
  },
  {
   "cell_type": "markdown",
   "id": "ee7d1f31-6e35-4358-9226-cfff9e3722db",
   "metadata": {},
   "source": [
    "##### Define Hypothesis"
   ]
  },
  {
   "cell_type": "markdown",
   "id": "a3b2d77c-eeeb-47dc-869b-43f1eb9b788a",
   "metadata": {},
   "source": [
    "- $H_{0}:$  Age group and shopping preferences are **independent**. \n",
    "- $H_{1}:$  Age group and shopping preferences are **dependent**."
   ]
  },
  {
   "cell_type": "markdown",
   "id": "41715196-9335-4f99-97a3-b82ec5b7faf8",
   "metadata": {},
   "source": [
    "#####  Select the Appropriate Test "
   ]
  },
  {
   "cell_type": "markdown",
   "id": "34df3999-bf45-4c0c-8191-0f452d2ec6f4",
   "metadata": {},
   "source": [
    "- Data Type: Discrete, Unpaired (>2 categories)\n",
    "- Frequency counts in contingency table.\n",
    "- Expected frequencies ≥5 for at least 80% of cells.\n",
    "  \n",
    "  ***Therefore, use  Chi-Square Test.***"
   ]
  },
  {
   "cell_type": "markdown",
   "id": "cef50a39-00fb-42b0-956e-fc1e323f58ce",
   "metadata": {},
   "source": [
    "#####  Calculate Test Statistics"
   ]
  },
  {
   "cell_type": "code",
   "execution_count": 86,
   "id": "6ff89bf7-3849-4aeb-8818-411cece4af64",
   "metadata": {},
   "outputs": [
    {
     "name": "stdout",
     "output_type": "stream",
     "text": [
      "Test Statistic (Chi-Square): 1.125\n",
      "p-value: 0.8903\n",
      "Degrees of Freedom: 4\n",
      "Expected Frequencies:\n",
      " [[50.         66.66666667 33.33333333]\n",
      " [60.         80.         40.        ]\n",
      " [40.         53.33333333 26.66666667]]\n"
     ]
    }
   ],
   "source": [
    "from scipy.stats import chi2_contingency\n",
    "\n",
    "# Data\n",
    "table = [\n",
    "    [50, 70, 30],  # Age Group 18-25\n",
    "    [60, 80, 40],  # Age Group 26-40\n",
    "    [40, 50, 30]   # Age Group 41-60\n",
    "]\n",
    "\n",
    "# Chi-Square Test\n",
    "chi2_stat, p_value, dof, expected_freq = chi2_contingency(table)\n",
    "\n",
    "print(\"Test Statistic (Chi-Square):\", round(chi2_stat, 4))\n",
    "print(\"p-value:\", round(p_value, 4))\n",
    "print(\"Degrees of Freedom:\", dof)\n",
    "print(\"Expected Frequencies:\\n\", expected_freq)"
   ]
  },
  {
   "cell_type": "markdown",
   "id": "4ed13605-2739-4894-bfd1-2c989160cc47",
   "metadata": {},
   "source": [
    "##### Make Decision "
   ]
  },
  {
   "cell_type": "markdown",
   "id": "7fff955b-8647-4b34-88cd-5320b96f5dfd",
   "metadata": {},
   "source": [
    "Since p = 0.8903 > 0.05, we fail to reject null hypothesis.\n",
    "\n",
    "At a 5% significance level, there is insufficient evidence to suggest a statistically significant association between age group and shopping preferences."
   ]
  },
  {
   "cell_type": "markdown",
   "id": "cd316a76-8637-4b2c-80a6-66a099b6cbc5",
   "metadata": {},
   "source": [
    "***"
   ]
  },
  {
   "cell_type": "markdown",
   "id": "5f8c4f3d-749b-40a3-9e79-8b586d95465e",
   "metadata": {},
   "source": [
    "## <a id=\"29\"></a> 4.1 Simple Linear Regression "
   ]
  },
  {
   "cell_type": "markdown",
   "id": "d82d5b9b-261b-49b2-bef2-9f2c62d8ea6b",
   "metadata": {},
   "source": [
    "Simple Linear Regression is a method to model the relationship between two variables by fitting a linear equation to observed data. Simple Linear Regression represents the relationship between one independent variable $𝑋$ and one dependent variable $𝑌$. It helps us understand how changes in $𝑋$ affect $𝑌$. Mathematically the model is represented as,\n"
   ]
  },
  {
   "cell_type": "markdown",
   "id": "1cfbe03f-635a-44bb-8db2-e37b603902da",
   "metadata": {},
   "source": [
    "$$\n",
    "Y = \\beta_0 + \\beta_1 X + \\epsilon\n",
    "$$\n"
   ]
  },
  {
   "cell_type": "markdown",
   "id": "6f9dac0b-7a75-4819-9050-5f6949d70107",
   "metadata": {},
   "source": [
    "where $ \\beta_0 $ is intercept, $\\beta_1$ is the slope which gives effect of $X$ on $Y$ and $\\epsilon$ is the error tem."
   ]
  },
  {
   "cell_type": "markdown",
   "id": "d0e9c30a-3439-4a95-8e3f-1c244cd610ad",
   "metadata": {},
   "source": [
    "#### Question"
   ]
  },
  {
   "cell_type": "markdown",
   "id": "7e7d5c5f-f051-4693-94de-e41bf45040a8",
   "metadata": {},
   "source": [
    "Imagine you are an educational consultant tasked with helping universities identify potential top-performing students during the admissions process. One of the key metrics often used by universities is the Grade Point Average (GPA), which reflects a student’s academic performance. However, GPA is only available after a student has spent years in university. To bridge this gap, universities commonly rely on standardized test scores, such as the SAT, to predict future academic success.\n",
    "\n",
    "Your objective is to predict a student’s GPA based on their SAT scores. By doing so, admissions committees can make informed decisions about which students are more likely to excel academically. This prediction could also help students set realistic academic goals by understanding the relationship between their SAT scores and potential GPA."
   ]
  },
  {
   "cell_type": "markdown",
   "id": "44840401-50ec-468e-8baa-17b86fcb4fea",
   "metadata": {},
   "source": [
    "#### Hypothesis"
   ]
  },
  {
   "cell_type": "markdown",
   "id": "13677765-4dab-47df-abc3-fb3a05d20aaa",
   "metadata": {},
   "source": [
    "We hypothesize that there is a **positive linear relationship** between SAT scores and GPA:"
   ]
  },
  {
   "cell_type": "markdown",
   "id": "9cd66050-dc68-4b2a-ac4e-001736401496",
   "metadata": {},
   "source": [
    "- $H_{0}:$  SAT scores do not have a linear relationship with GPA. \n",
    "- $H_{1}:$  SAT scores have a significant positive linear relationship with GPA."
   ]
  },
  {
   "cell_type": "markdown",
   "id": "1b5529e4-61c8-48b6-9a75-f0ef7f34c5a7",
   "metadata": {},
   "source": [
    "#### Model Implemantation"
   ]
  },
  {
   "cell_type": "code",
   "execution_count": 2,
   "id": "5104fdde-03e4-47e6-a2f7-6ca28cfc005e",
   "metadata": {},
   "outputs": [],
   "source": [
    "# Step 1: Load the dataset\n",
    "# Assuming we create a dataset for demonstration\n",
    "data = pd.DataFrame({\n",
    "    'SAT': [1100, 1250, 1300, 1450, 1550, 1650, 1800, 1950, 2100, 2300],\n",
    "    'GPA': [2.4, 2.7, 3.0, 3.2, 3.5, 3.6, 3.8, 3.9, 4.0, 4.0]\n",
    "})"
   ]
  },
  {
   "cell_type": "code",
   "execution_count": 3,
   "id": "7686f12c-7aa1-4cff-b084-94b11aba1e3d",
   "metadata": {},
   "outputs": [
    {
     "name": "stdout",
     "output_type": "stream",
     "text": [
      "Dataset:\n",
      "    SAT  GPA\n",
      "0  1100  2.4\n",
      "1  1250  2.7\n",
      "2  1300  3.0\n",
      "3  1450  3.2\n",
      "4  1550  3.5\n",
      "5  1650  3.6\n",
      "6  1800  3.8\n",
      "7  1950  3.9\n",
      "8  2100  4.0\n",
      "9  2300  4.0\n"
     ]
    }
   ],
   "source": [
    "# Display the dataset\n",
    "print(\"Dataset:\")\n",
    "print(data)"
   ]
  },
  {
   "cell_type": "code",
   "execution_count": 4,
   "id": "23f8b56d-be1f-480c-ace7-77240e12017b",
   "metadata": {},
   "outputs": [
    {
     "data": {
      "image/png": "[encoded data removed]",
      "text/plain": [
       "<Figure size 640x480 with 1 Axes>"
      ]
     },
     "metadata": {},
     "output_type": "display_data"
    }
   ],
   "source": [
    "# Step 2: Visualize the relationship\n",
    "plt.scatter(data['SAT'], data['GPA'], color='blue')\n",
    "plt.title('Scatter Plot: SAT vs GPA')\n",
    "plt.xlabel('SAT Scores')\n",
    "plt.ylabel('GPA')\n",
    "plt.grid(True)\n",
    "plt.show()"
   ]
  },
  {
   "cell_type": "code",
   "execution_count": 5,
   "id": "90bf822a-fb8f-44f6-812f-42abfd87019d",
   "metadata": {},
   "outputs": [],
   "source": [
    "# Step 3: Define the variables\n",
    "X = data['SAT']  # Independent variable\n",
    "y = data['GPA']  # Dependent variable\n",
    "\n",
    "# Add a constant to the independent variable (for the intercept)\n",
    "X = sm.add_constant(X)  # Adds a column of ones to X for the intercept"
   ]
  },
  {
   "cell_type": "code",
   "execution_count": 6,
   "id": "a6e903f5-ecd4-43e1-a9bb-783e3dda428f",
   "metadata": {},
   "outputs": [],
   "source": [
    "# Step 4: Fit the model\n",
    "model = sm.OLS(y, X).fit()  # Ordinary Least Squares regression"
   ]
  },
  {
   "cell_type": "code",
   "execution_count": 8,
   "id": "d11062bb-d579-4a9f-8cbe-f74ab0036d21",
   "metadata": {},
   "outputs": [
    {
     "name": "stdout",
     "output_type": "stream",
     "text": [
      "\n",
      "Model Summary:\n",
      "                            OLS Regression Results                            \n",
      "==============================================================================\n",
      "Dep. Variable:                    GPA   R-squared:                       0.889\n",
      "Model:                            OLS   Adj. R-squared:                  0.875\n",
      "Method:                 Least Squares   F-statistic:                     63.87\n",
      "Date:                Sat, 11 Jan 2025   Prob (F-statistic):           4.40e-05\n",
      "Time:                        03:17:51   Log-Likelihood:                 3.0310\n",
      "No. Observations:                  10   AIC:                            -2.062\n",
      "Df Residuals:                       8   BIC:                            -1.457\n",
      "Df Model:                           1                                         \n",
      "Covariance Type:            nonrobust                                         \n",
      "==============================================================================\n",
      "                 coef    std err          t      P>|t|      [0.025      0.975]\n",
      "------------------------------------------------------------------------------\n",
      "const          1.1677      0.288      4.060      0.004       0.505       1.831\n",
      "SAT            0.0014      0.000      7.992      0.000       0.001       0.002\n",
      "==============================================================================\n",
      "Omnibus:                        1.476   Durbin-Watson:                   0.586\n",
      "Prob(Omnibus):                  0.478   Jarque-Bera (JB):                0.970\n",
      "Skew:                          -0.502   Prob(JB):                        0.616\n",
      "Kurtosis:                       1.852   Cond. No.                     7.68e+03\n",
      "==============================================================================\n",
      "\n",
      "Notes:\n",
      "[1] Standard Errors assume that the covariance matrix of the errors is correctly specified.\n",
      "[2] The condition number is large, 7.68e+03. This might indicate that there are\n",
      "strong multicollinearity or other numerical problems.\n"
     ]
    },
    {
     "name": "stderr",
     "output_type": "stream",
     "text": [
      "C:\\Users\\seyma\\AppData\\Local\\Programs\\Python\\Python312\\Lib\\site-packages\\scipy\\stats\\_axis_nan_policy.py:418: UserWarning: `kurtosistest` p-value may be inaccurate with fewer than 20 observations; only n=10 observations were given.\n",
      "  return hypotest_fun_in(*args, **kwds)\n"
     ]
    }
   ],
   "source": [
    "# Step 5: Summarize the model\n",
    "print(\"\\nModel Summary:\")\n",
    "print(model.summary())"
   ]
  },
  {
   "cell_type": "markdown",
   "id": "62a4f5bc-86d2-4369-bb65-815302c49ec8",
   "metadata": {},
   "source": [
    "- The model aims to predict the **Grade Point Average (GPA)** of students based on their SAT scores. \n",
    "- **R-squared result** indicates that 88.9% of the variation in GPA is explained by the SAT scores in this model.\n",
    "- The **F-statistic** tests the overall significance of the regression model. The p- value of F-statistics is p = 4.40e-05 which is less than 0.05. So, the model is statistically significant, meaning that SAT scores are a good predictor of GPA."
   ]
  },
  {
   "cell_type": "markdown",
   "id": "ee456607-96e0-446b-aac2-2cd6bc9c2abb",
   "metadata": {},
   "source": [
    "- p- value for contant is less than 0.05, So, the contant variable is statistically significant for the model.\n",
    "- p- value for SAT is less than 0.05, So, We reject the null hypothesis $H_{0}$ and conclude that SAT scores significantly predict GPA.\n",
    "- For the confidence interval ([0.001, 0.002]), we can say that the slope's 95% confidence interval does not include zero, reinforcing the evidence of a significant relationship between SAT scores and GPA."
   ]
  },
  {
   "cell_type": "markdown",
   "id": "d1b4dd2f-03cb-423c-a93a-de1c42429a56",
   "metadata": {},
   "source": [
    "- *Durbin-Watson* : This statistic tests for autocorrelation in the residuals. A value close to 2 indicates no autocorrelation, but 0.586 suggests positive autocorrelation, which could be a concern.\n",
    "- *Omnibus and Jarque-Bera Tests* : These tests assess the normality of residuals. p-values (> 0.05) indicate no significant deviation from normality, supporting the assumption of normally distributed errors."
   ]
  },
  {
   "cell_type": "markdown",
   "id": "67b94227-dc32-442c-8334-28e686c74d7f",
   "metadata": {},
   "source": [
    "**Consequently, the model is statistically significant, with a high R-squared value and a strong relationship between SAT scores and GPA.** "
   ]
  },
  {
   "cell_type": "markdown",
   "id": "05c1e659-9fb2-4378-be7d-3d6727873674",
   "metadata": {},
   "source": [
    "Now, see some other issues:"
   ]
  },
  {
   "cell_type": "code",
   "execution_count": 10,
   "id": "f3656385-7b12-4f87-a696-ec533639de62",
   "metadata": {},
   "outputs": [
    {
     "name": "stdout",
     "output_type": "stream",
     "text": [
      "\n",
      "Intercept (β0): 1.1677\n",
      "Slope (β1): 0.0014\n",
      "Interpretation: For every additional 100 points in SAT score, GPA increases by 0.1363 on average.\n"
     ]
    }
   ],
   "source": [
    "# Extract coefficients using .iloc for position-based indexing\n",
    "intercept = model.params.iloc[0]  # Intercept (constant term)\n",
    "slope = model.params.iloc[1]  # Slope (effect of SAT on GPA)\n",
    "\n",
    "# Print the coefficients\n",
    "print(f\"\\nIntercept (β0): {intercept:.4f}\")\n",
    "print(f\"Slope (β1): {slope:.4f}\")\n",
    "print(f\"Interpretation: For every additional 100 points in SAT score, GPA increases by {slope * 100:.4f} on average.\")"
   ]
  },
  {
   "cell_type": "code",
   "execution_count": 11,
   "id": "79025a7a-ba9e-405b-8f12-62fb14364010",
   "metadata": {},
   "outputs": [
    {
     "name": "stdout",
     "output_type": "stream",
     "text": [
      "\n",
      "Predicted Values:\n",
      "    SAT  GPA  Predicted_GPA\n",
      "0  1100  2.4       2.667116\n",
      "1  1250  2.7       2.871580\n",
      "2  1300  3.0       2.939734\n",
      "3  1450  3.2       3.144197\n",
      "4  1550  3.5       3.280506\n",
      "5  1650  3.6       3.416815\n",
      "6  1800  3.8       3.621279\n",
      "7  1950  3.9       3.825742\n",
      "8  2100  4.0       4.030206\n",
      "9  2300  4.0       4.302824\n"
     ]
    }
   ],
   "source": [
    "# Step 7: Make predictions\n",
    "y_pred = model.predict(X)\n",
    "\n",
    "# Add predictions to the dataset\n",
    "data['Predicted_GPA'] = y_pred\n",
    "\n",
    "print(\"\\nPredicted Values:\")\n",
    "print(data)\n"
   ]
  },
  {
   "cell_type": "code",
   "execution_count": 12,
   "id": "32880288-c10e-45ca-a1d4-87fa44cdf171",
   "metadata": {},
   "outputs": [
    {
     "data": {
      "image/png": "[encoded data removed]",
      "text/plain": [
       "<Figure size 640x480 with 1 Axes>"
      ]
     },
     "metadata": {},
     "output_type": "display_data"
    }
   ],
   "source": [
    "# Step 8: Visualize the regression line\n",
    "plt.scatter(data['SAT'], data['GPA'], color='blue', label='Observed Data')\n",
    "plt.plot(data['SAT'], y_pred, color='red', label='Regression Line')\n",
    "plt.title('Simple Linear Regression: SAT vs GPA')\n",
    "plt.xlabel('SAT Scores')\n",
    "plt.ylabel('GPA')\n",
    "plt.legend()\n",
    "plt.grid(True)\n",
    "plt.show()\n"
   ]
  },
  {
   "cell_type": "code",
   "execution_count": 13,
   "id": "377ca948-9913-4db1-8717-0694e551d644",
   "metadata": {},
   "outputs": [
    {
     "name": "stdout",
     "output_type": "stream",
     "text": [
      "\n",
      "Evaluation Metrics:\n",
      "Mean Squared Error (MSE): 0.0319\n",
      "R-squared (R²): 0.8887\n",
      "Interpretation: 88.87% of the variation in GPA is explained by SAT scores.\n"
     ]
    }
   ],
   "source": [
    "# Step 9: Evaluate the model\n",
    "# Calculate metrics\n",
    "mse = mean_squared_error(data['GPA'], y_pred)\n",
    "r2 = r2_score(data['GPA'], y_pred)\n",
    "\n",
    "print(f\"\\nEvaluation Metrics:\")\n",
    "print(f\"Mean Squared Error (MSE): {mse:.4f}\")\n",
    "print(f\"R-squared (R²): {r2:.4f}\")\n",
    "print(f\"Interpretation: {r2 * 100:.2f}% of the variation in GPA is explained by SAT scores.\")\n"
   ]
  },
  {
   "cell_type": "code",
   "execution_count": 14,
   "id": "809f4378-7e02-4e19-8373-369c09d63230",
   "metadata": {},
   "outputs": [
    {
     "name": "stdout",
     "output_type": "stream",
     "text": [
      "\n",
      "Conclusion:\n",
      "The regression model indicates a significant positive relationship between SAT scores and GPA.\n",
      "With an R-squared value of 0.8887, the model explains a high proportion of variance in GPA based on SAT scores.\n"
     ]
    }
   ],
   "source": [
    "# Step 10: Conclusion\n",
    "print(\"\\nConclusion:\")\n",
    "print(\"The regression model indicates a significant positive relationship between SAT scores and GPA.\")\n",
    "print(f\"With an R-squared value of {r2:.4f}, the model explains a high proportion of variance in GPA based on SAT scores.\")"
   ]
  },
  {
   "cell_type": "markdown",
   "id": "bebf98b5-0a7e-4527-b353-9d90ce38f530",
   "metadata": {},
   "source": [
    "## <a id=\"30\"></a> 4.2 Multiple Linear Regression "
   ]
  },
  {
   "cell_type": "markdown",
   "id": "83c3cc8b-74e0-4e71-b648-649f25821999",
   "metadata": {},
   "source": [
    "Multiple Linear Regression is an extension of Simple Linear Regression that models the relationship between one dependent variable and two or more independent variables. It allows us to understand how changes in multiple predictors collectively and individually affect the response variable. Here is the mathematical represantation:"
   ]
  },
  {
   "cell_type": "markdown",
   "id": "67d7d09a-f8b7-415d-a3b2-5064313dab80",
   "metadata": {},
   "source": [
    "$$\n",
    "Y = \\beta_0 + \\beta_1 X_1 + \\beta_2 X_2 + ... + \\beta_n X_n + \\epsilon\n",
    "$$"
   ]
  },
  {
   "cell_type": "markdown",
   "id": "a822e480-a739-466c-81e0-3cf6f31b9c44",
   "metadata": {},
   "source": [
    "where:\n",
    "- $Y$ : Dependent variable (response).\n",
    "- $ X_1, X_2, ... , X_n $ : Independent variables (predictors).\n",
    "- $\\beta_0$ : Intercept (value of $Y$ when all $X_i = 0$\n",
    "- $\\beta_1$ , $\\beta_2$ , ... , $\\beta_n$ : Slopes (effects of each independent variable on $Y$.\n",
    "- $\\epsilon$ : Error term"
   ]
  },
  {
   "cell_type": "markdown",
   "id": "636e2e7d-6165-4122-bd3d-9d48899fdf02",
   "metadata": {},
   "source": [
    "#### Question"
   ]
  },
  {
   "cell_type": "markdown",
   "id": "30d47eb4-5f02-4945-980a-7a145767a18c",
   "metadata": {},
   "source": [
    "Imagine you're an educational researcher working for a university that wants to better understand the factors influencing student success. Specifically, you’ve been tasked with predicting a student’s GPA (Grade Point Average), a key indicator of academic performance. The university is curious—what contributes most to a student's GPA? Is it their SAT score, the time they dedicate to studying, or perhaps the educational background of their parents?\n",
    "\n",
    "To answer this, you set out to build a model that captures how these factors interact and influence GPA."
   ]
  },
  {
   "cell_type": "markdown",
   "id": "ab64338f-abe3-49f3-b336-6a6a51406252",
   "metadata": {},
   "source": [
    "Consequently, you want to predict a student's GPA $Y$ based on their:\n",
    "- SAT Score $(X_1)$\n",
    "- Study hours per week $(X_2)$\n",
    "- Educational level of their parents $(X_3)$"
   ]
  },
  {
   "cell_type": "markdown",
   "id": "6ae75425-bc02-4566-95c0-c8539e51e7b4",
   "metadata": {},
   "source": [
    "- $H_{0}:$  $\\beta_1 = \\beta_2 = \\beta_3 = 0 $ (None of the independent variables have a significant effect on the dependent variable)\n",
    "- $H_{1}:$  At least one $\\beta_i \\neq 0 $ (At least one of the independent variables has a significant effect on the dependent variable.)"
   ]
  },
  {
   "cell_type": "markdown",
   "id": "0bfcc919-18f0-464c-89f3-3a6daced6cb6",
   "metadata": {},
   "source": [
    "The p-value for each predictor and the F-statistic for the overall model help determine whether to reject $H_{0}$ "
   ]
  },
  {
   "cell_type": "code",
   "execution_count": 15,
   "id": "5dfd2de3-3a0f-44db-aea7-1ba9f299b598",
   "metadata": {},
   "outputs": [],
   "source": [
    "# Import necessary libraries\n",
    "import pandas as pd\n",
    "import numpy as np\n",
    "import matplotlib.pyplot as plt\n",
    "from sklearn.metrics import mean_squared_error, r2_score\n",
    "import statsmodels.api as sm"
   ]
  },
  {
   "cell_type": "code",
   "execution_count": 16,
   "id": "3409703a-9607-43c6-b5a5-0afaced74328",
   "metadata": {},
   "outputs": [],
   "source": [
    "# Step 1: Create a dataset for demonstration\n",
    "data = pd.DataFrame({\n",
    "    'SAT': [1100, 1250, 1300, 1450, 1550, 1650, 1800, 1950, 2100, 2300],\n",
    "    'StudyHours': [10, 12, 14, 10, 15, 20, 18, 25, 30, 35],\n",
    "    'ParentEducation': [12, 16, 14, 12, 18, 20, 16, 14, 18, 20],\n",
    "    'GPA': [2.4, 2.7, 3.0, 3.2, 3.5, 3.6, 3.8, 3.9, 4.0, 4.0]\n",
    "})"
   ]
  },
  {
   "cell_type": "code",
   "execution_count": 17,
   "id": "f90feaaf-341f-48d4-b717-879e634d671a",
   "metadata": {},
   "outputs": [
    {
     "name": "stdout",
     "output_type": "stream",
     "text": [
      "Dataset:\n",
      "    SAT  StudyHours  ParentEducation  GPA\n",
      "0  1100          10               12  2.4\n",
      "1  1250          12               16  2.7\n",
      "2  1300          14               14  3.0\n",
      "3  1450          10               12  3.2\n",
      "4  1550          15               18  3.5\n",
      "5  1650          20               20  3.6\n",
      "6  1800          18               16  3.8\n",
      "7  1950          25               14  3.9\n",
      "8  2100          30               18  4.0\n",
      "9  2300          35               20  4.0\n"
     ]
    }
   ],
   "source": [
    "# Display the dataset\n",
    "print(\"Dataset:\")\n",
    "print(data)"
   ]
  },
  {
   "cell_type": "code",
   "execution_count": 18,
   "id": "b4928e28-ea0e-4f8b-9f5a-5992fc1161a7",
   "metadata": {},
   "outputs": [
    {
     "data": {
      "image/png": "[encoded data removed]",
      "text/plain": [
       "<Figure size 1000x800 with 16 Axes>"
      ]
     },
     "metadata": {},
     "output_type": "display_data"
    }
   ],
   "source": [
    "# Step 2: Visualize relationships\n",
    "# Pairwise scatter plots\n",
    "pd.plotting.scatter_matrix(data, figsize=(10, 8), diagonal='kde', alpha=0.7)\n",
    "plt.suptitle(\"Scatter Matrix: Visualizing Relationships\", y=1.02)\n",
    "plt.show()\n"
   ]
  },
  {
   "cell_type": "markdown",
   "id": "40f085fc-a56a-44f6-97cb-a77fcf4514f8",
   "metadata": {},
   "source": [
    "The scatter matrix shows pairwise relationships between SAT, StudyHours, ParentEducation, and GPA. A strong positive trend is observed between SAT and GPA, as well as StudyHours and GPA, suggesting these variables are significant predictors. ParentEducation shows a weaker positive relationship with GPA, indicating it might play a lesser role in influencing student performance."
   ]
  },
  {
   "cell_type": "code",
   "execution_count": 19,
   "id": "9508b1b7-8feb-4e74-a5e7-7cadb0464f48",
   "metadata": {},
   "outputs": [],
   "source": [
    "# Step 3: Define the predictors (X) and response variable (y)\n",
    "X = data[['SAT', 'StudyHours', 'ParentEducation']]  # Independent variables\n",
    "y = data['GPA']  # Dependent variable\n",
    "\n",
    "# Add a constant to the predictors (for the intercept)\n",
    "X = sm.add_constant(X)"
   ]
  },
  {
   "cell_type": "code",
   "execution_count": 20,
   "id": "dbfec626-e1ff-4cd4-b5f7-0ed6d68969e2",
   "metadata": {},
   "outputs": [],
   "source": [
    "# Step 4: Fit the model\n",
    "model = sm.OLS(y, X).fit()  # Ordinary Least Squares regression"
   ]
  },
  {
   "cell_type": "code",
   "execution_count": 21,
   "id": "f1c06a62-8285-4f41-a2d4-762fed94556f",
   "metadata": {},
   "outputs": [
    {
     "name": "stdout",
     "output_type": "stream",
     "text": [
      "\n",
      "Model Summary:\n",
      "                            OLS Regression Results                            \n",
      "==============================================================================\n",
      "Dep. Variable:                    GPA   R-squared:                       0.941\n",
      "Model:                            OLS   Adj. R-squared:                  0.912\n",
      "Method:                 Least Squares   F-statistic:                     32.19\n",
      "Date:                Sat, 11 Jan 2025   Prob (F-statistic):           0.000428\n",
      "Time:                        03:54:58   Log-Likelihood:                 6.2470\n",
      "No. Observations:                  10   AIC:                            -4.494\n",
      "Df Residuals:                       6   BIC:                            -3.284\n",
      "Df Model:                           3                                         \n",
      "Covariance Type:            nonrobust                                         \n",
      "===================================================================================\n",
      "                      coef    std err          t      P>|t|      [0.025      0.975]\n",
      "-----------------------------------------------------------------------------------\n",
      "const               0.1744      0.506      0.345      0.742      -1.063       1.412\n",
      "SAT                 0.0023      0.000      5.021      0.002       0.001       0.003\n",
      "StudyHours         -0.0494      0.022     -2.292      0.062      -0.102       0.003\n",
      "ParentEducation     0.0274      0.025      1.101      0.313      -0.033       0.088\n",
      "==============================================================================\n",
      "Omnibus:                        1.530   Durbin-Watson:                   2.075\n",
      "Prob(Omnibus):                  0.465   Jarque-Bera (JB):                0.757\n",
      "Skew:                          -0.129   Prob(JB):                        0.685\n",
      "Kurtosis:                       1.677   Cond. No.                     1.61e+04\n",
      "==============================================================================\n",
      "\n",
      "Notes:\n",
      "[1] Standard Errors assume that the covariance matrix of the errors is correctly specified.\n",
      "[2] The condition number is large, 1.61e+04. This might indicate that there are\n",
      "strong multicollinearity or other numerical problems.\n"
     ]
    },
    {
     "name": "stderr",
     "output_type": "stream",
     "text": [
      "C:\\Users\\seyma\\AppData\\Local\\Programs\\Python\\Python312\\Lib\\site-packages\\scipy\\stats\\_axis_nan_policy.py:418: UserWarning: `kurtosistest` p-value may be inaccurate with fewer than 20 observations; only n=10 observations were given.\n",
      "  return hypotest_fun_in(*args, **kwds)\n"
     ]
    }
   ],
   "source": [
    "# Step 5: Summarize the model\n",
    "print(\"\\nModel Summary:\")\n",
    "print(model.summary())"
   ]
  },
  {
   "cell_type": "markdown",
   "id": "2849ce9a-24cf-4cf9-b076-d992ac0e149f",
   "metadata": {},
   "source": [
    "- The model aims to predict the **Grade Point Average (GPA)** of students based on their SAT scores, study hours,and parental education. \n",
    "- **R-squared result** indicates that 94.1% of the variation in GPA is explained by the predictors in this model.\n",
    "- **Adjusted R-squared** is slightly lower than R-squared result, indicating that adding predictors may slightly overfit the data.\n",
    "- The **F-statistic** tests the overall significance of the regression model. The p- value of F-statistics is p =  0.000428 which is less than 0.05 (reject the null hypothesis). So, the model is statistically significant, indicating that the predictors, taken together, significantly explain the variation in GPA."
   ]
  },
  {
   "cell_type": "markdown",
   "id": "9e912da7-26c9-4d5f-8e62-107d25bf0792",
   "metadata": {},
   "source": [
    "- SAT ($\\beta_1 = 0.0023 $) : For every additional 1 point increase in SAT, GPA increases by 0.0023. p-value = 0.002 is less than 0.05, meaning SAT has a strong impact on GPA.\n",
    "- StudyHours ($\\beta_2 = −0.0494 $) : For every additional 1 hour of study per week, GPA decreases by 0.0494. p-value = 0.062 is greater than 0.05 meaning  not statistically significant.\n",
    "- ParentEducation ($\\beta_3 = 0.0274 $) : For every additional 1 year of parental education, GPA increases by 0.0274. p- value = 0.313 is greater then 0.05, meaning that not statistically significant."
   ]
  },
  {
   "cell_type": "markdown",
   "id": "10489f5c-2454-4a7f-903e-0fe213e735d2",
   "metadata": {},
   "source": [
    "- *Durbin-Watson* : This statistic tests for autocorrelation in the residuals.A value close to 2 indicates no autocorrelation, which is a good sign for this model.\n",
    "- *Omnibus and Jarque-Bera Tests* : These test for normality of residuals. Since the p-values are greater than 0.05, we fail to reject the null hypothesis, indicating that the residuals are likely normally distributed."
   ]
  },
  {
   "cell_type": "markdown",
   "id": "5498fa8b-eb8f-49f1-8161-7c0558769322",
   "metadata": {},
   "source": [
    "**Consequently, SAT is the only statistically significant predictor of GPA, while StudyHours and ParentEducation show no significant impact. The model is overall significant and explains most of the variation in GPA.**"
   ]
  },
  {
   "cell_type": "markdown",
   "id": "9116a4fd-8cb8-45a1-9b62-266bcf7c9557",
   "metadata": {},
   "source": [
    "*The model is meaningful with only SAT variable. Therefore, makeing predictions by SAT would be meaningful and we have done this on the previous question.*"
   ]
  },
  {
   "cell_type": "markdown",
   "id": "91e03b9d-9286-453b-912d-100389103eeb",
   "metadata": {},
   "source": [
    "***"
   ]
  },
  {
   "cell_type": "markdown",
   "id": "b5ea1fb2-2eb7-4666-984f-de1eb650047f",
   "metadata": {},
   "source": [
    "## <a id=\"31\"></a> 5.1 References "
   ]
  },
  {
   "cell_type": "markdown",
   "id": "af8ef4d9-22d1-42f6-8290-8f4539031726",
   "metadata": {},
   "source": [
    "- https://www.geeksforgeeks.org/how-to-conduct-a-wilcoxon-signed-rank-test-in-python/\n",
    "- https://pythonfordatascienceorg.wordpress.com/wilcoxon-sign-ranked-test-python/\n",
    "- Walpole, R. E., Myers, R. H., Myers S. L., Ye, K. Probability and Statistics for Engineers and Scientists (9th edition)\n",
    "- https://medium.com/@24littledino/two-sample-chi-square-test-in-python-b9f2db89dc2b\n",
    "- https://www.tutorialspoint.com/how-to-conduct-a-one-sample-t-test-in-python\n",
    "- https://vitalflux.com/kruskal-wallis-h-test-formula-python-example/\n",
    "- https://www.statology.org/hypothesis-test-python/\n",
    "- https://resources.nu.edu/statsresources/assumptions\n",
    "- https://opentextbc.ca/introductorybusinessstatistics/chapter/descriptive-statistics-and-frequency-distributions-2/"
   ]
  }
 ],
 "metadata": {
  "kernelspec": {
   "display_name": "Python 3 (ipykernel)",
   "language": "python",
   "name": "python3"
  },
  "language_info": {
   "codemirror_mode": {
    "name": "ipython",
    "version": 3
   },
   "file_extension": ".py",
   "mimetype": "text/x-python",
   "name": "python",
   "nbconvert_exporter": "python",
   "pygments_lexer": "ipython3",
   "version": "3.12.7"
  }
 },
 "nbformat": 4,
 "nbformat_minor": 5
}
